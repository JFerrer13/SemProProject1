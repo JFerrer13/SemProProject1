{
  "nbformat": 4,
  "nbformat_minor": 0,
  "metadata": {
    "colab": {
      "name": "Dermatology.ipynb",
      "provenance": [],
      "collapsed_sections": [],
      "toc_visible": true,
      "include_colab_link": true
    },
    "kernelspec": {
      "name": "python3",
      "display_name": "Python 3"
    }
  },
  "cells": [
    {
      "cell_type": "markdown",
      "metadata": {
        "id": "view-in-github",
        "colab_type": "text"
      },
      "source": [
        "<a href=\"https://colab.research.google.com/github/KevinHern/SemProProject1/blob/master/Dermatology.ipynb\" target=\"_parent\"><img src=\"https://colab.research.google.com/assets/colab-badge.svg\" alt=\"Open In Colab\"/></a>"
      ]
    },
    {
      "cell_type": "markdown",
      "metadata": {
        "id": "f-jHyHSwTeIG",
        "colab_type": "text"
      },
      "source": [
        "# Librerías"
      ]
    },
    {
      "cell_type": "code",
      "metadata": {
        "id": "HtHAuPSa5Rpp",
        "colab_type": "code",
        "colab": {}
      },
      "source": [
        "%tensorflow_version 2.x\n",
        "\n",
        "import tensorflow as tf\n",
        "import tensorflow_hub as hub\n",
        "\n",
        "from tensorflow.keras import Sequential\n",
        "from tensorflow.keras.utils import get_file\n",
        "from tensorflow.keras.applications import ResNet50V2\n",
        "from tensorflow.keras.layers import Dense, GlobalAveragePooling2D, Flatten\n",
        "from tensorflow.keras.preprocessing.image import ImageDataGenerator\n",
        "\n",
        "\n",
        "import os\n",
        "import shutil\n",
        "import numpy as np\n",
        "import PIL.Image as Image\n",
        "import matplotlib.pyplot as plt\n",
        "import pandas as pd\n",
        "import seaborn as sns\n",
        "import math\n",
        "\n",
        "#dark mode\n",
        "plt.rc_context({'xtick.color':'w', 'ytick.color':'w', 'text.color':'w', 'axes.labelcolor':'w'})\n",
        "\n",
        "seed=1234\n",
        "np.random.seed(seed)\n",
        "tf.random.set_seed(seed)"
      ],
      "execution_count": 0,
      "outputs": []
    },
    {
      "cell_type": "markdown",
      "metadata": {
        "id": "I7AKjNq-TkuM",
        "colab_type": "text"
      },
      "source": [
        "# Dataset"
      ]
    },
    {
      "cell_type": "markdown",
      "metadata": {
        "id": "J2IeGb7CT3OR",
        "colab_type": "text"
      },
      "source": [
        "## Extracting"
      ]
    },
    {
      "cell_type": "code",
      "metadata": {
        "id": "XH-YqTSB_Phm",
        "colab_type": "code",
        "colab": {}
      },
      "source": [
        "df = pd.read_csv('https://raw.githubusercontent.com/KevinHern/SemProProject1/master/dermatology.csv')"
      ],
      "execution_count": 0,
      "outputs": []
    },
    {
      "cell_type": "markdown",
      "metadata": {
        "id": "wKpSISAoT5U7",
        "colab_type": "text"
      },
      "source": [
        "## Getting to know the Dataset"
      ]
    },
    {
      "cell_type": "code",
      "metadata": {
        "id": "D73Um3Fs_0Cb",
        "colab_type": "code",
        "outputId": "b5c3422c-24c0-4ef7-e190-3dcff02191f5",
        "colab": {
          "base_uri": "https://localhost:8080/",
          "height": 215
        }
      },
      "source": [
        "df.head()"
      ],
      "execution_count": 40,
      "outputs": [
        {
          "output_type": "execute_result",
          "data": {
            "text/html": [
              "<div>\n",
              "<style scoped>\n",
              "    .dataframe tbody tr th:only-of-type {\n",
              "        vertical-align: middle;\n",
              "    }\n",
              "\n",
              "    .dataframe tbody tr th {\n",
              "        vertical-align: top;\n",
              "    }\n",
              "\n",
              "    .dataframe thead th {\n",
              "        text-align: right;\n",
              "    }\n",
              "</style>\n",
              "<table border=\"1\" class=\"dataframe\">\n",
              "  <thead>\n",
              "    <tr style=\"text-align: right;\">\n",
              "      <th></th>\n",
              "      <th>2</th>\n",
              "      <th>2.1</th>\n",
              "      <th>0</th>\n",
              "      <th>3</th>\n",
              "      <th>0.1</th>\n",
              "      <th>0.2</th>\n",
              "      <th>0.3</th>\n",
              "      <th>0.4</th>\n",
              "      <th>1</th>\n",
              "      <th>0.5</th>\n",
              "      <th>0.6</th>\n",
              "      <th>0.7</th>\n",
              "      <th>0.8</th>\n",
              "      <th>0.9</th>\n",
              "      <th>0.10</th>\n",
              "      <th>3.1</th>\n",
              "      <th>2.2</th>\n",
              "      <th>0.11</th>\n",
              "      <th>0.12</th>\n",
              "      <th>0.13</th>\n",
              "      <th>0.14</th>\n",
              "      <th>0.15</th>\n",
              "      <th>0.16</th>\n",
              "      <th>0.17</th>\n",
              "      <th>0.18</th>\n",
              "      <th>0.19</th>\n",
              "      <th>0.20</th>\n",
              "      <th>3.2</th>\n",
              "      <th>0.21</th>\n",
              "      <th>0.22</th>\n",
              "      <th>0.23</th>\n",
              "      <th>1.1</th>\n",
              "      <th>0.24</th>\n",
              "      <th>55</th>\n",
              "      <th>2.3</th>\n",
              "    </tr>\n",
              "  </thead>\n",
              "  <tbody>\n",
              "    <tr>\n",
              "      <th>0</th>\n",
              "      <td>3</td>\n",
              "      <td>3</td>\n",
              "      <td>3</td>\n",
              "      <td>2</td>\n",
              "      <td>1</td>\n",
              "      <td>0</td>\n",
              "      <td>0</td>\n",
              "      <td>0</td>\n",
              "      <td>1</td>\n",
              "      <td>1</td>\n",
              "      <td>1</td>\n",
              "      <td>0</td>\n",
              "      <td>0</td>\n",
              "      <td>1</td>\n",
              "      <td>0</td>\n",
              "      <td>1</td>\n",
              "      <td>2</td>\n",
              "      <td>0</td>\n",
              "      <td>2</td>\n",
              "      <td>2</td>\n",
              "      <td>2</td>\n",
              "      <td>2</td>\n",
              "      <td>2</td>\n",
              "      <td>1</td>\n",
              "      <td>0</td>\n",
              "      <td>0</td>\n",
              "      <td>0</td>\n",
              "      <td>0</td>\n",
              "      <td>0</td>\n",
              "      <td>0</td>\n",
              "      <td>0</td>\n",
              "      <td>1</td>\n",
              "      <td>0</td>\n",
              "      <td>8</td>\n",
              "      <td>1</td>\n",
              "    </tr>\n",
              "    <tr>\n",
              "      <th>1</th>\n",
              "      <td>2</td>\n",
              "      <td>1</td>\n",
              "      <td>2</td>\n",
              "      <td>3</td>\n",
              "      <td>1</td>\n",
              "      <td>3</td>\n",
              "      <td>0</td>\n",
              "      <td>3</td>\n",
              "      <td>0</td>\n",
              "      <td>0</td>\n",
              "      <td>0</td>\n",
              "      <td>1</td>\n",
              "      <td>0</td>\n",
              "      <td>0</td>\n",
              "      <td>0</td>\n",
              "      <td>1</td>\n",
              "      <td>2</td>\n",
              "      <td>0</td>\n",
              "      <td>2</td>\n",
              "      <td>0</td>\n",
              "      <td>0</td>\n",
              "      <td>0</td>\n",
              "      <td>0</td>\n",
              "      <td>0</td>\n",
              "      <td>2</td>\n",
              "      <td>0</td>\n",
              "      <td>2</td>\n",
              "      <td>3</td>\n",
              "      <td>2</td>\n",
              "      <td>0</td>\n",
              "      <td>0</td>\n",
              "      <td>2</td>\n",
              "      <td>3</td>\n",
              "      <td>26</td>\n",
              "      <td>3</td>\n",
              "    </tr>\n",
              "    <tr>\n",
              "      <th>2</th>\n",
              "      <td>2</td>\n",
              "      <td>2</td>\n",
              "      <td>2</td>\n",
              "      <td>0</td>\n",
              "      <td>0</td>\n",
              "      <td>0</td>\n",
              "      <td>0</td>\n",
              "      <td>0</td>\n",
              "      <td>3</td>\n",
              "      <td>2</td>\n",
              "      <td>0</td>\n",
              "      <td>0</td>\n",
              "      <td>0</td>\n",
              "      <td>3</td>\n",
              "      <td>0</td>\n",
              "      <td>0</td>\n",
              "      <td>2</td>\n",
              "      <td>0</td>\n",
              "      <td>3</td>\n",
              "      <td>2</td>\n",
              "      <td>2</td>\n",
              "      <td>2</td>\n",
              "      <td>2</td>\n",
              "      <td>0</td>\n",
              "      <td>0</td>\n",
              "      <td>3</td>\n",
              "      <td>0</td>\n",
              "      <td>0</td>\n",
              "      <td>0</td>\n",
              "      <td>0</td>\n",
              "      <td>0</td>\n",
              "      <td>3</td>\n",
              "      <td>0</td>\n",
              "      <td>40</td>\n",
              "      <td>1</td>\n",
              "    </tr>\n",
              "    <tr>\n",
              "      <th>3</th>\n",
              "      <td>2</td>\n",
              "      <td>3</td>\n",
              "      <td>2</td>\n",
              "      <td>2</td>\n",
              "      <td>2</td>\n",
              "      <td>2</td>\n",
              "      <td>0</td>\n",
              "      <td>2</td>\n",
              "      <td>0</td>\n",
              "      <td>0</td>\n",
              "      <td>0</td>\n",
              "      <td>1</td>\n",
              "      <td>0</td>\n",
              "      <td>0</td>\n",
              "      <td>0</td>\n",
              "      <td>1</td>\n",
              "      <td>2</td>\n",
              "      <td>0</td>\n",
              "      <td>0</td>\n",
              "      <td>0</td>\n",
              "      <td>0</td>\n",
              "      <td>0</td>\n",
              "      <td>0</td>\n",
              "      <td>0</td>\n",
              "      <td>2</td>\n",
              "      <td>2</td>\n",
              "      <td>3</td>\n",
              "      <td>2</td>\n",
              "      <td>3</td>\n",
              "      <td>0</td>\n",
              "      <td>0</td>\n",
              "      <td>2</td>\n",
              "      <td>3</td>\n",
              "      <td>45</td>\n",
              "      <td>3</td>\n",
              "    </tr>\n",
              "    <tr>\n",
              "      <th>4</th>\n",
              "      <td>2</td>\n",
              "      <td>3</td>\n",
              "      <td>2</td>\n",
              "      <td>0</td>\n",
              "      <td>0</td>\n",
              "      <td>0</td>\n",
              "      <td>0</td>\n",
              "      <td>0</td>\n",
              "      <td>0</td>\n",
              "      <td>0</td>\n",
              "      <td>0</td>\n",
              "      <td>0</td>\n",
              "      <td>2</td>\n",
              "      <td>1</td>\n",
              "      <td>0</td>\n",
              "      <td>2</td>\n",
              "      <td>2</td>\n",
              "      <td>0</td>\n",
              "      <td>2</td>\n",
              "      <td>0</td>\n",
              "      <td>0</td>\n",
              "      <td>0</td>\n",
              "      <td>1</td>\n",
              "      <td>0</td>\n",
              "      <td>0</td>\n",
              "      <td>0</td>\n",
              "      <td>0</td>\n",
              "      <td>2</td>\n",
              "      <td>0</td>\n",
              "      <td>0</td>\n",
              "      <td>0</td>\n",
              "      <td>1</td>\n",
              "      <td>0</td>\n",
              "      <td>41</td>\n",
              "      <td>2</td>\n",
              "    </tr>\n",
              "  </tbody>\n",
              "</table>\n",
              "</div>"
            ],
            "text/plain": [
              "   2  2.1  0  3  0.1  0.2  0.3  0.4  ...  3.2  0.21  0.22  0.23  1.1  0.24  55  2.3\n",
              "0  3    3  3  2    1    0    0    0  ...    0     0     0     0    1     0   8    1\n",
              "1  2    1  2  3    1    3    0    3  ...    3     2     0     0    2     3  26    3\n",
              "2  2    2  2  0    0    0    0    0  ...    0     0     0     0    3     0  40    1\n",
              "3  2    3  2  2    2    2    0    2  ...    2     3     0     0    2     3  45    3\n",
              "4  2    3  2  0    0    0    0    0  ...    2     0     0     0    1     0  41    2\n",
              "\n",
              "[5 rows x 35 columns]"
            ]
          },
          "metadata": {
            "tags": []
          },
          "execution_count": 40
        }
      ]
    },
    {
      "cell_type": "code",
      "metadata": {
        "id": "MQ9y8Ty3_6L_",
        "colab_type": "code",
        "colab": {}
      },
      "source": [
        "df.columns = ['erythema', 'scaling', 'definite borders', 'itching', 'koebner phenomenon', \n",
        "              'polygonal papules', 'follicular papules', 'oral mucosal involvement', \n",
        "              'knee and elbow involvement', 'scalp involvement', 'family history, (0 or 1)', \n",
        "               'melanin incontinence', 'eosinophils in the infiltrate', 'PNL infiltrate', \n",
        "              'fibrosis of the papillary dermis', 'exocytosis', 'acanthosis', 'hyperkeratosis', \n",
        "              'parakeratosis', 'clubbing of the rete ridges', 'elongation of the rete ridges', \n",
        "              'thinning of the suprapapillary epidermis', 'spongiform pustule', 'munro microabcess',\n",
        "              'focal hypergranulosis', 'disappearance of the granular layer', \n",
        "              'vacuolisation and damage of basal layer', 'spongiosis', \n",
        "              'saw-tooth appearance of retes', 'follicular horn plug', \n",
        "              'perifollicular parakeratosis', 'inflammatory monoluclear inflitrate', 'band-like infiltrate','Age', 'Classcode']\n",
        "df['Classcode'] = df['Classcode'] - 1"
      ],
      "execution_count": 0,
      "outputs": []
    },
    {
      "cell_type": "code",
      "metadata": {
        "id": "1kvBh5pPCKfd",
        "colab_type": "code",
        "outputId": "b872dd56-09ba-48d2-ccef-cc840013825e",
        "colab": {
          "base_uri": "https://localhost:8080/",
          "height": 472
        }
      },
      "source": [
        "df"
      ],
      "execution_count": 42,
      "outputs": [
        {
          "output_type": "execute_result",
          "data": {
            "text/html": [
              "<div>\n",
              "<style scoped>\n",
              "    .dataframe tbody tr th:only-of-type {\n",
              "        vertical-align: middle;\n",
              "    }\n",
              "\n",
              "    .dataframe tbody tr th {\n",
              "        vertical-align: top;\n",
              "    }\n",
              "\n",
              "    .dataframe thead th {\n",
              "        text-align: right;\n",
              "    }\n",
              "</style>\n",
              "<table border=\"1\" class=\"dataframe\">\n",
              "  <thead>\n",
              "    <tr style=\"text-align: right;\">\n",
              "      <th></th>\n",
              "      <th>erythema</th>\n",
              "      <th>scaling</th>\n",
              "      <th>definite borders</th>\n",
              "      <th>itching</th>\n",
              "      <th>koebner phenomenon</th>\n",
              "      <th>polygonal papules</th>\n",
              "      <th>follicular papules</th>\n",
              "      <th>oral mucosal involvement</th>\n",
              "      <th>knee and elbow involvement</th>\n",
              "      <th>scalp involvement</th>\n",
              "      <th>family history, (0 or 1)</th>\n",
              "      <th>melanin incontinence</th>\n",
              "      <th>eosinophils in the infiltrate</th>\n",
              "      <th>PNL infiltrate</th>\n",
              "      <th>fibrosis of the papillary dermis</th>\n",
              "      <th>exocytosis</th>\n",
              "      <th>acanthosis</th>\n",
              "      <th>hyperkeratosis</th>\n",
              "      <th>parakeratosis</th>\n",
              "      <th>clubbing of the rete ridges</th>\n",
              "      <th>elongation of the rete ridges</th>\n",
              "      <th>thinning of the suprapapillary epidermis</th>\n",
              "      <th>spongiform pustule</th>\n",
              "      <th>munro microabcess</th>\n",
              "      <th>focal hypergranulosis</th>\n",
              "      <th>disappearance of the granular layer</th>\n",
              "      <th>vacuolisation and damage of basal layer</th>\n",
              "      <th>spongiosis</th>\n",
              "      <th>saw-tooth appearance of retes</th>\n",
              "      <th>follicular horn plug</th>\n",
              "      <th>perifollicular parakeratosis</th>\n",
              "      <th>inflammatory monoluclear inflitrate</th>\n",
              "      <th>band-like infiltrate</th>\n",
              "      <th>Age</th>\n",
              "      <th>Classcode</th>\n",
              "    </tr>\n",
              "  </thead>\n",
              "  <tbody>\n",
              "    <tr>\n",
              "      <th>0</th>\n",
              "      <td>3</td>\n",
              "      <td>3</td>\n",
              "      <td>3</td>\n",
              "      <td>2</td>\n",
              "      <td>1</td>\n",
              "      <td>0</td>\n",
              "      <td>0</td>\n",
              "      <td>0</td>\n",
              "      <td>1</td>\n",
              "      <td>1</td>\n",
              "      <td>1</td>\n",
              "      <td>0</td>\n",
              "      <td>0</td>\n",
              "      <td>1</td>\n",
              "      <td>0</td>\n",
              "      <td>1</td>\n",
              "      <td>2</td>\n",
              "      <td>0</td>\n",
              "      <td>2</td>\n",
              "      <td>2</td>\n",
              "      <td>2</td>\n",
              "      <td>2</td>\n",
              "      <td>2</td>\n",
              "      <td>1</td>\n",
              "      <td>0</td>\n",
              "      <td>0</td>\n",
              "      <td>0</td>\n",
              "      <td>0</td>\n",
              "      <td>0</td>\n",
              "      <td>0</td>\n",
              "      <td>0</td>\n",
              "      <td>1</td>\n",
              "      <td>0</td>\n",
              "      <td>8</td>\n",
              "      <td>0</td>\n",
              "    </tr>\n",
              "    <tr>\n",
              "      <th>1</th>\n",
              "      <td>2</td>\n",
              "      <td>1</td>\n",
              "      <td>2</td>\n",
              "      <td>3</td>\n",
              "      <td>1</td>\n",
              "      <td>3</td>\n",
              "      <td>0</td>\n",
              "      <td>3</td>\n",
              "      <td>0</td>\n",
              "      <td>0</td>\n",
              "      <td>0</td>\n",
              "      <td>1</td>\n",
              "      <td>0</td>\n",
              "      <td>0</td>\n",
              "      <td>0</td>\n",
              "      <td>1</td>\n",
              "      <td>2</td>\n",
              "      <td>0</td>\n",
              "      <td>2</td>\n",
              "      <td>0</td>\n",
              "      <td>0</td>\n",
              "      <td>0</td>\n",
              "      <td>0</td>\n",
              "      <td>0</td>\n",
              "      <td>2</td>\n",
              "      <td>0</td>\n",
              "      <td>2</td>\n",
              "      <td>3</td>\n",
              "      <td>2</td>\n",
              "      <td>0</td>\n",
              "      <td>0</td>\n",
              "      <td>2</td>\n",
              "      <td>3</td>\n",
              "      <td>26</td>\n",
              "      <td>2</td>\n",
              "    </tr>\n",
              "    <tr>\n",
              "      <th>2</th>\n",
              "      <td>2</td>\n",
              "      <td>2</td>\n",
              "      <td>2</td>\n",
              "      <td>0</td>\n",
              "      <td>0</td>\n",
              "      <td>0</td>\n",
              "      <td>0</td>\n",
              "      <td>0</td>\n",
              "      <td>3</td>\n",
              "      <td>2</td>\n",
              "      <td>0</td>\n",
              "      <td>0</td>\n",
              "      <td>0</td>\n",
              "      <td>3</td>\n",
              "      <td>0</td>\n",
              "      <td>0</td>\n",
              "      <td>2</td>\n",
              "      <td>0</td>\n",
              "      <td>3</td>\n",
              "      <td>2</td>\n",
              "      <td>2</td>\n",
              "      <td>2</td>\n",
              "      <td>2</td>\n",
              "      <td>0</td>\n",
              "      <td>0</td>\n",
              "      <td>3</td>\n",
              "      <td>0</td>\n",
              "      <td>0</td>\n",
              "      <td>0</td>\n",
              "      <td>0</td>\n",
              "      <td>0</td>\n",
              "      <td>3</td>\n",
              "      <td>0</td>\n",
              "      <td>40</td>\n",
              "      <td>0</td>\n",
              "    </tr>\n",
              "    <tr>\n",
              "      <th>3</th>\n",
              "      <td>2</td>\n",
              "      <td>3</td>\n",
              "      <td>2</td>\n",
              "      <td>2</td>\n",
              "      <td>2</td>\n",
              "      <td>2</td>\n",
              "      <td>0</td>\n",
              "      <td>2</td>\n",
              "      <td>0</td>\n",
              "      <td>0</td>\n",
              "      <td>0</td>\n",
              "      <td>1</td>\n",
              "      <td>0</td>\n",
              "      <td>0</td>\n",
              "      <td>0</td>\n",
              "      <td>1</td>\n",
              "      <td>2</td>\n",
              "      <td>0</td>\n",
              "      <td>0</td>\n",
              "      <td>0</td>\n",
              "      <td>0</td>\n",
              "      <td>0</td>\n",
              "      <td>0</td>\n",
              "      <td>0</td>\n",
              "      <td>2</td>\n",
              "      <td>2</td>\n",
              "      <td>3</td>\n",
              "      <td>2</td>\n",
              "      <td>3</td>\n",
              "      <td>0</td>\n",
              "      <td>0</td>\n",
              "      <td>2</td>\n",
              "      <td>3</td>\n",
              "      <td>45</td>\n",
              "      <td>2</td>\n",
              "    </tr>\n",
              "    <tr>\n",
              "      <th>4</th>\n",
              "      <td>2</td>\n",
              "      <td>3</td>\n",
              "      <td>2</td>\n",
              "      <td>0</td>\n",
              "      <td>0</td>\n",
              "      <td>0</td>\n",
              "      <td>0</td>\n",
              "      <td>0</td>\n",
              "      <td>0</td>\n",
              "      <td>0</td>\n",
              "      <td>0</td>\n",
              "      <td>0</td>\n",
              "      <td>2</td>\n",
              "      <td>1</td>\n",
              "      <td>0</td>\n",
              "      <td>2</td>\n",
              "      <td>2</td>\n",
              "      <td>0</td>\n",
              "      <td>2</td>\n",
              "      <td>0</td>\n",
              "      <td>0</td>\n",
              "      <td>0</td>\n",
              "      <td>1</td>\n",
              "      <td>0</td>\n",
              "      <td>0</td>\n",
              "      <td>0</td>\n",
              "      <td>0</td>\n",
              "      <td>2</td>\n",
              "      <td>0</td>\n",
              "      <td>0</td>\n",
              "      <td>0</td>\n",
              "      <td>1</td>\n",
              "      <td>0</td>\n",
              "      <td>41</td>\n",
              "      <td>1</td>\n",
              "    </tr>\n",
              "    <tr>\n",
              "      <th>...</th>\n",
              "      <td>...</td>\n",
              "      <td>...</td>\n",
              "      <td>...</td>\n",
              "      <td>...</td>\n",
              "      <td>...</td>\n",
              "      <td>...</td>\n",
              "      <td>...</td>\n",
              "      <td>...</td>\n",
              "      <td>...</td>\n",
              "      <td>...</td>\n",
              "      <td>...</td>\n",
              "      <td>...</td>\n",
              "      <td>...</td>\n",
              "      <td>...</td>\n",
              "      <td>...</td>\n",
              "      <td>...</td>\n",
              "      <td>...</td>\n",
              "      <td>...</td>\n",
              "      <td>...</td>\n",
              "      <td>...</td>\n",
              "      <td>...</td>\n",
              "      <td>...</td>\n",
              "      <td>...</td>\n",
              "      <td>...</td>\n",
              "      <td>...</td>\n",
              "      <td>...</td>\n",
              "      <td>...</td>\n",
              "      <td>...</td>\n",
              "      <td>...</td>\n",
              "      <td>...</td>\n",
              "      <td>...</td>\n",
              "      <td>...</td>\n",
              "      <td>...</td>\n",
              "      <td>...</td>\n",
              "      <td>...</td>\n",
              "    </tr>\n",
              "    <tr>\n",
              "      <th>360</th>\n",
              "      <td>2</td>\n",
              "      <td>1</td>\n",
              "      <td>1</td>\n",
              "      <td>0</td>\n",
              "      <td>1</td>\n",
              "      <td>0</td>\n",
              "      <td>0</td>\n",
              "      <td>0</td>\n",
              "      <td>0</td>\n",
              "      <td>0</td>\n",
              "      <td>0</td>\n",
              "      <td>0</td>\n",
              "      <td>0</td>\n",
              "      <td>1</td>\n",
              "      <td>0</td>\n",
              "      <td>1</td>\n",
              "      <td>1</td>\n",
              "      <td>0</td>\n",
              "      <td>0</td>\n",
              "      <td>0</td>\n",
              "      <td>0</td>\n",
              "      <td>0</td>\n",
              "      <td>0</td>\n",
              "      <td>0</td>\n",
              "      <td>0</td>\n",
              "      <td>0</td>\n",
              "      <td>0</td>\n",
              "      <td>1</td>\n",
              "      <td>0</td>\n",
              "      <td>0</td>\n",
              "      <td>0</td>\n",
              "      <td>2</td>\n",
              "      <td>0</td>\n",
              "      <td>25</td>\n",
              "      <td>3</td>\n",
              "    </tr>\n",
              "    <tr>\n",
              "      <th>361</th>\n",
              "      <td>3</td>\n",
              "      <td>2</td>\n",
              "      <td>1</td>\n",
              "      <td>0</td>\n",
              "      <td>1</td>\n",
              "      <td>0</td>\n",
              "      <td>0</td>\n",
              "      <td>0</td>\n",
              "      <td>0</td>\n",
              "      <td>0</td>\n",
              "      <td>0</td>\n",
              "      <td>0</td>\n",
              "      <td>0</td>\n",
              "      <td>0</td>\n",
              "      <td>0</td>\n",
              "      <td>2</td>\n",
              "      <td>2</td>\n",
              "      <td>0</td>\n",
              "      <td>0</td>\n",
              "      <td>0</td>\n",
              "      <td>0</td>\n",
              "      <td>0</td>\n",
              "      <td>0</td>\n",
              "      <td>0</td>\n",
              "      <td>0</td>\n",
              "      <td>1</td>\n",
              "      <td>0</td>\n",
              "      <td>1</td>\n",
              "      <td>0</td>\n",
              "      <td>0</td>\n",
              "      <td>0</td>\n",
              "      <td>2</td>\n",
              "      <td>0</td>\n",
              "      <td>36</td>\n",
              "      <td>3</td>\n",
              "    </tr>\n",
              "    <tr>\n",
              "      <th>362</th>\n",
              "      <td>3</td>\n",
              "      <td>2</td>\n",
              "      <td>2</td>\n",
              "      <td>2</td>\n",
              "      <td>3</td>\n",
              "      <td>2</td>\n",
              "      <td>0</td>\n",
              "      <td>2</td>\n",
              "      <td>0</td>\n",
              "      <td>0</td>\n",
              "      <td>0</td>\n",
              "      <td>2</td>\n",
              "      <td>2</td>\n",
              "      <td>0</td>\n",
              "      <td>0</td>\n",
              "      <td>3</td>\n",
              "      <td>3</td>\n",
              "      <td>0</td>\n",
              "      <td>0</td>\n",
              "      <td>0</td>\n",
              "      <td>0</td>\n",
              "      <td>0</td>\n",
              "      <td>0</td>\n",
              "      <td>0</td>\n",
              "      <td>3</td>\n",
              "      <td>0</td>\n",
              "      <td>3</td>\n",
              "      <td>0</td>\n",
              "      <td>3</td>\n",
              "      <td>0</td>\n",
              "      <td>0</td>\n",
              "      <td>2</td>\n",
              "      <td>3</td>\n",
              "      <td>28</td>\n",
              "      <td>2</td>\n",
              "    </tr>\n",
              "    <tr>\n",
              "      <th>363</th>\n",
              "      <td>2</td>\n",
              "      <td>1</td>\n",
              "      <td>3</td>\n",
              "      <td>1</td>\n",
              "      <td>2</td>\n",
              "      <td>3</td>\n",
              "      <td>0</td>\n",
              "      <td>2</td>\n",
              "      <td>0</td>\n",
              "      <td>0</td>\n",
              "      <td>0</td>\n",
              "      <td>2</td>\n",
              "      <td>0</td>\n",
              "      <td>0</td>\n",
              "      <td>0</td>\n",
              "      <td>3</td>\n",
              "      <td>2</td>\n",
              "      <td>0</td>\n",
              "      <td>0</td>\n",
              "      <td>0</td>\n",
              "      <td>0</td>\n",
              "      <td>0</td>\n",
              "      <td>0</td>\n",
              "      <td>0</td>\n",
              "      <td>3</td>\n",
              "      <td>0</td>\n",
              "      <td>2</td>\n",
              "      <td>0</td>\n",
              "      <td>1</td>\n",
              "      <td>0</td>\n",
              "      <td>0</td>\n",
              "      <td>2</td>\n",
              "      <td>3</td>\n",
              "      <td>50</td>\n",
              "      <td>2</td>\n",
              "    </tr>\n",
              "    <tr>\n",
              "      <th>364</th>\n",
              "      <td>3</td>\n",
              "      <td>2</td>\n",
              "      <td>2</td>\n",
              "      <td>0</td>\n",
              "      <td>0</td>\n",
              "      <td>0</td>\n",
              "      <td>0</td>\n",
              "      <td>0</td>\n",
              "      <td>3</td>\n",
              "      <td>3</td>\n",
              "      <td>0</td>\n",
              "      <td>0</td>\n",
              "      <td>0</td>\n",
              "      <td>1</td>\n",
              "      <td>0</td>\n",
              "      <td>0</td>\n",
              "      <td>2</td>\n",
              "      <td>0</td>\n",
              "      <td>2</td>\n",
              "      <td>3</td>\n",
              "      <td>2</td>\n",
              "      <td>3</td>\n",
              "      <td>0</td>\n",
              "      <td>2</td>\n",
              "      <td>0</td>\n",
              "      <td>2</td>\n",
              "      <td>0</td>\n",
              "      <td>0</td>\n",
              "      <td>0</td>\n",
              "      <td>0</td>\n",
              "      <td>0</td>\n",
              "      <td>3</td>\n",
              "      <td>0</td>\n",
              "      <td>35</td>\n",
              "      <td>0</td>\n",
              "    </tr>\n",
              "  </tbody>\n",
              "</table>\n",
              "<p>365 rows × 35 columns</p>\n",
              "</div>"
            ],
            "text/plain": [
              "     erythema  scaling  definite borders  ...  band-like infiltrate  Age  Classcode\n",
              "0           3        3                 3  ...                     0    8          0\n",
              "1           2        1                 2  ...                     3   26          2\n",
              "2           2        2                 2  ...                     0   40          0\n",
              "3           2        3                 2  ...                     3   45          2\n",
              "4           2        3                 2  ...                     0   41          1\n",
              "..        ...      ...               ...  ...                   ...  ...        ...\n",
              "360         2        1                 1  ...                     0   25          3\n",
              "361         3        2                 1  ...                     0   36          3\n",
              "362         3        2                 2  ...                     3   28          2\n",
              "363         2        1                 3  ...                     3   50          2\n",
              "364         3        2                 2  ...                     0   35          0\n",
              "\n",
              "[365 rows x 35 columns]"
            ]
          },
          "metadata": {
            "tags": []
          },
          "execution_count": 42
        }
      ]
    },
    {
      "cell_type": "markdown",
      "metadata": {
        "id": "DHkUAPvzT98v",
        "colab_type": "text"
      },
      "source": [
        "## Cleaning Dataset"
      ]
    },
    {
      "cell_type": "code",
      "metadata": {
        "id": "ie4vB9ZmRC2E",
        "colab_type": "code",
        "outputId": "7b26d716-4424-4d8c-d7d6-b85af91e0021",
        "colab": {
          "base_uri": "https://localhost:8080/",
          "height": 34
        }
      },
      "source": [
        "temp = df[df['Age'] != '?']\n",
        "temp = temp.astype(int)\n",
        "meanAge = math.floor(temp['Age'].mean())\n",
        "meanAge"
      ],
      "execution_count": 43,
      "outputs": [
        {
          "output_type": "execute_result",
          "data": {
            "text/plain": [
              "36"
            ]
          },
          "metadata": {
            "tags": []
          },
          "execution_count": 43
        }
      ]
    },
    {
      "cell_type": "code",
      "metadata": {
        "id": "beOoKeECVL0n",
        "colab_type": "code",
        "outputId": "57dadc86-50ec-4447-88aa-79936f1d2a68",
        "colab": {
          "base_uri": "https://localhost:8080/",
          "height": 118
        }
      },
      "source": [
        "df = df.replace('?', meanAge)\n",
        "df[df['Age'] == '?']"
      ],
      "execution_count": 44,
      "outputs": [
        {
          "output_type": "execute_result",
          "data": {
            "text/html": [
              "<div>\n",
              "<style scoped>\n",
              "    .dataframe tbody tr th:only-of-type {\n",
              "        vertical-align: middle;\n",
              "    }\n",
              "\n",
              "    .dataframe tbody tr th {\n",
              "        vertical-align: top;\n",
              "    }\n",
              "\n",
              "    .dataframe thead th {\n",
              "        text-align: right;\n",
              "    }\n",
              "</style>\n",
              "<table border=\"1\" class=\"dataframe\">\n",
              "  <thead>\n",
              "    <tr style=\"text-align: right;\">\n",
              "      <th></th>\n",
              "      <th>erythema</th>\n",
              "      <th>scaling</th>\n",
              "      <th>definite borders</th>\n",
              "      <th>itching</th>\n",
              "      <th>koebner phenomenon</th>\n",
              "      <th>polygonal papules</th>\n",
              "      <th>follicular papules</th>\n",
              "      <th>oral mucosal involvement</th>\n",
              "      <th>knee and elbow involvement</th>\n",
              "      <th>scalp involvement</th>\n",
              "      <th>family history, (0 or 1)</th>\n",
              "      <th>melanin incontinence</th>\n",
              "      <th>eosinophils in the infiltrate</th>\n",
              "      <th>PNL infiltrate</th>\n",
              "      <th>fibrosis of the papillary dermis</th>\n",
              "      <th>exocytosis</th>\n",
              "      <th>acanthosis</th>\n",
              "      <th>hyperkeratosis</th>\n",
              "      <th>parakeratosis</th>\n",
              "      <th>clubbing of the rete ridges</th>\n",
              "      <th>elongation of the rete ridges</th>\n",
              "      <th>thinning of the suprapapillary epidermis</th>\n",
              "      <th>spongiform pustule</th>\n",
              "      <th>munro microabcess</th>\n",
              "      <th>focal hypergranulosis</th>\n",
              "      <th>disappearance of the granular layer</th>\n",
              "      <th>vacuolisation and damage of basal layer</th>\n",
              "      <th>spongiosis</th>\n",
              "      <th>saw-tooth appearance of retes</th>\n",
              "      <th>follicular horn plug</th>\n",
              "      <th>perifollicular parakeratosis</th>\n",
              "      <th>inflammatory monoluclear inflitrate</th>\n",
              "      <th>band-like infiltrate</th>\n",
              "      <th>Age</th>\n",
              "      <th>Classcode</th>\n",
              "    </tr>\n",
              "  </thead>\n",
              "  <tbody>\n",
              "  </tbody>\n",
              "</table>\n",
              "</div>"
            ],
            "text/plain": [
              "Empty DataFrame\n",
              "Columns: [erythema, scaling, definite borders, itching, koebner phenomenon, polygonal papules, follicular papules, oral mucosal involvement, knee and elbow involvement, scalp involvement, family history, (0 or 1), melanin incontinence, eosinophils in the infiltrate, PNL infiltrate, fibrosis of the papillary dermis, exocytosis, acanthosis, hyperkeratosis, parakeratosis, clubbing of the rete ridges, elongation of the rete ridges, thinning of the suprapapillary epidermis, spongiform pustule, munro microabcess, focal hypergranulosis, disappearance of the granular layer, vacuolisation and damage of basal layer, spongiosis, saw-tooth appearance of retes, follicular horn plug, perifollicular parakeratosis, inflammatory monoluclear inflitrate, band-like infiltrate, Age, Classcode]\n",
              "Index: []"
            ]
          },
          "metadata": {
            "tags": []
          },
          "execution_count": 44
        }
      ]
    },
    {
      "cell_type": "code",
      "metadata": {
        "id": "_AMS-3MpVZ1l",
        "colab_type": "code",
        "outputId": "16ee7ad6-f3e7-45a9-cbfb-901b49a25b8f",
        "colab": {
          "base_uri": "https://localhost:8080/",
          "height": 650
        }
      },
      "source": [
        "for i in df.columns:\n",
        "  df[i] = df[i].astype(int)\n",
        "df.dtypes"
      ],
      "execution_count": 45,
      "outputs": [
        {
          "output_type": "execute_result",
          "data": {
            "text/plain": [
              "erythema                                    int64\n",
              "scaling                                     int64\n",
              "definite borders                            int64\n",
              "itching                                     int64\n",
              "koebner phenomenon                          int64\n",
              "polygonal papules                           int64\n",
              "follicular papules                          int64\n",
              "oral mucosal involvement                    int64\n",
              "knee and elbow involvement                  int64\n",
              "scalp involvement                           int64\n",
              "family history, (0 or 1)                    int64\n",
              "melanin incontinence                        int64\n",
              "eosinophils in the infiltrate               int64\n",
              "PNL infiltrate                              int64\n",
              "fibrosis of the papillary dermis            int64\n",
              "exocytosis                                  int64\n",
              "acanthosis                                  int64\n",
              "hyperkeratosis                              int64\n",
              "parakeratosis                               int64\n",
              "clubbing of the rete ridges                 int64\n",
              "elongation of the rete ridges               int64\n",
              "thinning of the suprapapillary epidermis    int64\n",
              "spongiform pustule                          int64\n",
              "munro microabcess                           int64\n",
              "focal hypergranulosis                       int64\n",
              "disappearance of the granular layer         int64\n",
              "vacuolisation and damage of basal layer     int64\n",
              "spongiosis                                  int64\n",
              "saw-tooth appearance of retes               int64\n",
              "follicular horn plug                        int64\n",
              "perifollicular parakeratosis                int64\n",
              "inflammatory monoluclear inflitrate         int64\n",
              "band-like infiltrate                        int64\n",
              "Age                                         int64\n",
              "Classcode                                   int64\n",
              "dtype: object"
            ]
          },
          "metadata": {
            "tags": []
          },
          "execution_count": 45
        }
      ]
    },
    {
      "cell_type": "markdown",
      "metadata": {
        "id": "g3I-EWyUaA3E",
        "colab_type": "text"
      },
      "source": [
        "## Correlation"
      ]
    },
    {
      "cell_type": "code",
      "metadata": {
        "id": "Dag5Evb--yLV",
        "colab_type": "code",
        "outputId": "e94e49cd-af0e-4c4d-a1c1-bdf0f94f2b63",
        "colab": {
          "base_uri": "https://localhost:8080/",
          "height": 588
        }
      },
      "source": [
        "plt.figure(figsize=(18,6))\n",
        "sns.heatmap(df.isnull(), yticklabels=True, cbar=False, cmap='viridis', xticklabels=True)"
      ],
      "execution_count": 46,
      "outputs": [
        {
          "output_type": "execute_result",
          "data": {
            "text/plain": [
              "<matplotlib.axes._subplots.AxesSubplot at 0x7facc3719240>"
            ]
          },
          "metadata": {
            "tags": []
          },
          "execution_count": 46
        },
        {
          "output_type": "display_data",
          "data": {
            "image/png": "[encoded data removed]",
            "text/plain": [
              "<Figure size 1296x432 with 1 Axes>"
            ]
          },
          "metadata": {
            "tags": []
          }
        }
      ]
    },
    {
      "cell_type": "markdown",
      "metadata": {
        "id": "pIakc1xydFVP",
        "colab_type": "text"
      },
      "source": [
        "## Splitting"
      ]
    },
    {
      "cell_type": "markdown",
      "metadata": {
        "id": "B86d5KQ2dG50",
        "colab_type": "text"
      },
      "source": [
        "Particionamos el dataset en:\n",
        "\n",
        "*   75% training\n",
        "*   15% test\n",
        "*   10% validation"
      ]
    },
    {
      "cell_type": "code",
      "metadata": {
        "id": "bd3amkE3dZI8",
        "colab_type": "code",
        "outputId": "9f42fe22-8458-43a7-82ac-c89c6311ff4c",
        "colab": {
          "base_uri": "https://localhost:8080/",
          "height": 34
        }
      },
      "source": [
        "train_split = df.sample(frac = 0.75,random_state=42)\n",
        "test_split = df.drop(train_split.index)\n",
        "\n",
        "train_split.shape, test_split.shape"
      ],
      "execution_count": 47,
      "outputs": [
        {
          "output_type": "execute_result",
          "data": {
            "text/plain": [
              "((274, 35), (91, 35))"
            ]
          },
          "metadata": {
            "tags": []
          },
          "execution_count": 47
        }
      ]
    },
    {
      "cell_type": "markdown",
      "metadata": {
        "id": "bgVgpKD3VFwq",
        "colab_type": "text"
      },
      "source": [
        "### Getting Train Labels and Train data"
      ]
    },
    {
      "cell_type": "code",
      "metadata": {
        "id": "XgYe3OSzVNea",
        "colab_type": "code",
        "colab": {
          "base_uri": "https://localhost:8080/",
          "height": 34
        },
        "outputId": "218b7ad5-6960-4f34-8051-ff6395856c64"
      },
      "source": [
        "train_labels = train_split['Classcode']\n",
        "train_data = train_split\n",
        "train_data = train_data.drop(columns=['Classcode'])\n",
        "\n",
        "train_labels.shape, train_data.shape"
      ],
      "execution_count": 48,
      "outputs": [
        {
          "output_type": "execute_result",
          "data": {
            "text/plain": [
              "((274,), (274, 34))"
            ]
          },
          "metadata": {
            "tags": []
          },
          "execution_count": 48
        }
      ]
    },
    {
      "cell_type": "markdown",
      "metadata": {
        "id": "TH8HXROQX7cA",
        "colab_type": "text"
      },
      "source": [
        ""
      ]
    },
    {
      "cell_type": "markdown",
      "metadata": {
        "id": "amGiO5sVX7hW",
        "colab_type": "text"
      },
      "source": [
        "### Getting Test Labels and Test Labels"
      ]
    },
    {
      "cell_type": "code",
      "metadata": {
        "id": "0nPdyN1MX_0k",
        "colab_type": "code",
        "colab": {
          "base_uri": "https://localhost:8080/",
          "height": 34
        },
        "outputId": "c4cd64af-666a-49a5-8f07-6b0bdc4fbd67"
      },
      "source": [
        "test_labels = test_split['Classcode']\n",
        "test_data = test_split\n",
        "test_data = test_data.drop(columns=['Classcode'])\n",
        "\n",
        "test_labels.shape, test_data.shape"
      ],
      "execution_count": 52,
      "outputs": [
        {
          "output_type": "execute_result",
          "data": {
            "text/plain": [
              "((91,), (91, 34))"
            ]
          },
          "metadata": {
            "tags": []
          },
          "execution_count": 52
        }
      ]
    },
    {
      "cell_type": "markdown",
      "metadata": {
        "id": "_TZVA5rdaULE",
        "colab_type": "text"
      },
      "source": [
        "# Models"
      ]
    },
    {
      "cell_type": "markdown",
      "metadata": {
        "id": "v54w8I86aWZL",
        "colab_type": "text"
      },
      "source": [
        "Metodología:\n",
        "Queremos ver qué modelo tiene mejor Accuracy utilizando diversos conjuntos de features\n",
        "Se realizan 4 modelos:\n",
        "\n",
        "1.   Un modelo que utiliza todos los features del dataset.\n",
        "2.   Un modelo que utiliza únicamente los features clínicos\n",
        "3.   Un modelo que utiliza únicamente los datos histopatológicos\n",
        "4.   Un modelo que utiliza los features más importantes extraídos del heatmap\n",
        "\n",
        "El approach que se empleará para determinar qué arquitectura es la mejor continene las siguientes condiciones:\n",
        "\n",
        "*   Los 4 modelos se someterán a los mismos datasets\n",
        "*   Los 4 modelos tendrán las mismas arquitecturas para ser comparables. Las capas ocultas tendrán neuronas en potencias de 2\n",
        "*   Se realizarán 4 pruebas, donde cada prueba se utilizará una arquitectura distinta.\n",
        "\n",
        "\n",
        "\n",
        "\n",
        "\n"
      ]
    },
    {
      "cell_type": "markdown",
      "metadata": {
        "id": "nPi9SW7ffKdS",
        "colab_type": "text"
      },
      "source": [
        "## Model 1: 3 hidden layers"
      ]
    },
    {
      "cell_type": "markdown",
      "metadata": {
        "id": "mz4dBGsefOgO",
        "colab_type": "text"
      },
      "source": [
        "### Test 1: 2 hidden layers"
      ]
    },
    {
      "cell_type": "code",
      "metadata": {
        "id": "WpwahNWLe0Aj",
        "colab_type": "code",
        "outputId": "b2bf75cd-ef76-4b93-83cb-476faa3eea39",
        "colab": {
          "base_uri": "https://localhost:8080/",
          "height": 210
        }
      },
      "source": [
        "model1 = Sequential([\n",
        "  \n",
        "  Dense(1024, activation='relu', input_shape=(34,)),\n",
        "  Dense(512, activation='relu'),\n",
        "  Dense(256, activation='relu'),\n",
        "  Dense(6, activation='softmax')\n",
        "])\n",
        "\n",
        "model1.compile(optimizer='adam',\n",
        "              loss='sparse_categorical_crossentropy',\n",
        "              metrics=['accuracy'])\n",
        "\n",
        "history = model1.fit(train_data,\n",
        "                     train_labels,\n",
        "                    epochs=5,\n",
        "                    #validation_data=validation_split,\n",
        "                     validation_split=0.3\n",
        "                   )\n",
        "\n",
        "#results = model1.evaluate(test_data)\n",
        "classifications = model1.predict(test_data)"
      ],
      "execution_count": 61,
      "outputs": [
        {
          "output_type": "stream",
          "text": [
            "Train on 191 samples, validate on 83 samples\n",
            "Epoch 1/5\n",
            "191/191 [==============================] - 0s 2ms/sample - loss: 2.2767 - accuracy: 0.2565 - val_loss: 1.3799 - val_accuracy: 0.5783\n",
            "Epoch 2/5\n",
            "191/191 [==============================] - 0s 422us/sample - loss: 1.2831 - accuracy: 0.4660 - val_loss: 0.8299 - val_accuracy: 0.7349\n",
            "Epoch 3/5\n",
            "191/191 [==============================] - 0s 372us/sample - loss: 0.8084 - accuracy: 0.7016 - val_loss: 0.4831 - val_accuracy: 0.8675\n",
            "Epoch 4/5\n",
            "191/191 [==============================] - 0s 441us/sample - loss: 0.5710 - accuracy: 0.8115 - val_loss: 0.4193 - val_accuracy: 0.7831\n",
            "Epoch 5/5\n",
            "191/191 [==============================] - 0s 366us/sample - loss: 0.3745 - accuracy: 0.8639 - val_loss: 0.1706 - val_accuracy: 0.9518\n"
          ],
          "name": "stdout"
        }
      ]
    },
    {
      "cell_type": "markdown",
      "metadata": {
        "id": "NhLHs8dNfytj",
        "colab_type": "text"
      },
      "source": [
        "### Test 2: 3 hidden layers"
      ]
    },
    {
      "cell_type": "code",
      "metadata": {
        "id": "kcj1AKQpY6bG",
        "colab_type": "code",
        "colab": {
          "base_uri": "https://localhost:8080/",
          "height": 210
        },
        "outputId": "c752cc59-ef15-4eee-afa2-2e71b727d061"
      },
      "source": [
        "model1 = Sequential([\n",
        "  \n",
        "  Dense(1024, activation='relu', input_shape=(34,)),\n",
        "  Dense(512, activation='relu'),\n",
        "  Dense(256, activation='relu'),\n",
        "  Dense(128, activation='relu'),\n",
        "  Dense(6, activation='softmax')\n",
        "])\n",
        "\n",
        "model1.compile(optimizer='adam',\n",
        "              loss='sparse_categorical_crossentropy',\n",
        "              metrics=['accuracy'])\n",
        "\n",
        "history = model1.fit(train_data,\n",
        "                     train_labels,\n",
        "                    epochs=5,\n",
        "                    #validation_data=validation_split,\n",
        "                     validation_split=0.3\n",
        "                   )\n",
        "\n",
        "#results = model1.evaluate(test_data)\n",
        "classifications = model1.predict(test_data)"
      ],
      "execution_count": 62,
      "outputs": [
        {
          "output_type": "stream",
          "text": [
            "Train on 191 samples, validate on 83 samples\n",
            "Epoch 1/5\n",
            "191/191 [==============================] - 0s 2ms/sample - loss: 1.8738 - accuracy: 0.2984 - val_loss: 1.4380 - val_accuracy: 0.3735\n",
            "Epoch 2/5\n",
            "191/191 [==============================] - 0s 428us/sample - loss: 1.3098 - accuracy: 0.5497 - val_loss: 0.8194 - val_accuracy: 0.7470\n",
            "Epoch 3/5\n",
            "191/191 [==============================] - 0s 466us/sample - loss: 0.8619 - accuracy: 0.6492 - val_loss: 0.4936 - val_accuracy: 0.9398\n",
            "Epoch 4/5\n",
            "191/191 [==============================] - 0s 440us/sample - loss: 0.5707 - accuracy: 0.8220 - val_loss: 0.3640 - val_accuracy: 0.9157\n",
            "Epoch 5/5\n",
            "191/191 [==============================] - 0s 401us/sample - loss: 0.4274 - accuracy: 0.8377 - val_loss: 0.2526 - val_accuracy: 0.9639\n"
          ],
          "name": "stdout"
        }
      ]
    },
    {
      "cell_type": "markdown",
      "metadata": {
        "id": "aVv13aMUf1ZT",
        "colab_type": "text"
      },
      "source": [
        "### Test 3: 4 hidden layers"
      ]
    },
    {
      "cell_type": "code",
      "metadata": {
        "id": "4_GTXYuBZCq1",
        "colab_type": "code",
        "colab": {
          "base_uri": "https://localhost:8080/",
          "height": 210
        },
        "outputId": "b7846ed5-75d5-401d-a9fb-2536c2416d3d"
      },
      "source": [
        "model1 = Sequential([\n",
        "  \n",
        "  Dense(1024, activation='relu', input_shape=(34,)),\n",
        "  Dense(512, activation='relu'),\n",
        "  Dense(256, activation='relu'),\n",
        "  Dense(128, activation='relu'),\n",
        "  Dense(64, activation='relu'),\n",
        "  Dense(6, activation='softmax')\n",
        "])\n",
        "\n",
        "model1.compile(optimizer='adam',\n",
        "              loss='sparse_categorical_crossentropy',\n",
        "              metrics=['accuracy'])\n",
        "\n",
        "history = model1.fit(train_data,\n",
        "                     train_labels,\n",
        "                    epochs=5,\n",
        "                    #validation_data=validation_split,\n",
        "                     validation_split=0.3\n",
        "                   )\n",
        "\n",
        "#results = model1.evaluate(test_data)\n",
        "classifications = model1.predict(test_data)"
      ],
      "execution_count": 63,
      "outputs": [
        {
          "output_type": "stream",
          "text": [
            "Train on 191 samples, validate on 83 samples\n",
            "Epoch 1/5\n",
            "191/191 [==============================] - 0s 2ms/sample - loss: 1.7727 - accuracy: 0.2251 - val_loss: 1.3616 - val_accuracy: 0.4699\n",
            "Epoch 2/5\n",
            "191/191 [==============================] - 0s 386us/sample - loss: 1.4854 - accuracy: 0.4346 - val_loss: 1.1632 - val_accuracy: 0.7108\n",
            "Epoch 3/5\n",
            "191/191 [==============================] - 0s 396us/sample - loss: 1.0885 - accuracy: 0.5916 - val_loss: 0.7230 - val_accuracy: 0.7831\n",
            "Epoch 4/5\n",
            "191/191 [==============================] - 0s 444us/sample - loss: 0.7051 - accuracy: 0.8063 - val_loss: 0.4212 - val_accuracy: 0.9277\n",
            "Epoch 5/5\n",
            "191/191 [==============================] - 0s 389us/sample - loss: 0.4508 - accuracy: 0.8429 - val_loss: 0.2481 - val_accuracy: 0.9036\n"
          ],
          "name": "stdout"
        }
      ]
    },
    {
      "cell_type": "markdown",
      "metadata": {
        "id": "P2fd3aJWgj3b",
        "colab_type": "text"
      },
      "source": [
        "### Test 4: 5 hidden layers"
      ]
    },
    {
      "cell_type": "code",
      "metadata": {
        "id": "YexM28sSZHMc",
        "colab_type": "code",
        "colab": {
          "base_uri": "https://localhost:8080/",
          "height": 210
        },
        "outputId": "1dded826-16f5-4e88-bace-7b80a7c8a5c1"
      },
      "source": [
        "model1 = Sequential([\n",
        "  \n",
        "  Dense(1024, activation='relu', input_shape=(34,)),\n",
        "  Dense(512, activation='relu'),\n",
        "  Dense(256, activation='relu'),\n",
        "  Dense(128, activation='relu'),\n",
        "  Dense(64, activation='relu'),\n",
        "  Dense(32, activation='relu'),\n",
        "  Dense(6, activation='softmax')\n",
        "])\n",
        "\n",
        "model1.compile(optimizer='adam',\n",
        "              loss='sparse_categorical_crossentropy',\n",
        "              metrics=['accuracy'])\n",
        "\n",
        "history = model1.fit(train_data,\n",
        "                     train_labels,\n",
        "                    epochs=5,\n",
        "                    #validation_data=validation_split,\n",
        "                     validation_split=0.3\n",
        "                   )\n",
        "\n",
        "#results = model1.evaluate(test_data)\n",
        "classifications = model1.predict(test_data)"
      ],
      "execution_count": 64,
      "outputs": [
        {
          "output_type": "stream",
          "text": [
            "Train on 191 samples, validate on 83 samples\n",
            "Epoch 1/5\n",
            "191/191 [==============================] - 0s 3ms/sample - loss: 1.7097 - accuracy: 0.3089 - val_loss: 1.3532 - val_accuracy: 0.5060\n",
            "Epoch 2/5\n",
            "191/191 [==============================] - 0s 424us/sample - loss: 1.3059 - accuracy: 0.5079 - val_loss: 0.9045 - val_accuracy: 0.6867\n",
            "Epoch 3/5\n",
            "191/191 [==============================] - 0s 387us/sample - loss: 0.9554 - accuracy: 0.6387 - val_loss: 0.5659 - val_accuracy: 0.8916\n",
            "Epoch 4/5\n",
            "191/191 [==============================] - 0s 377us/sample - loss: 0.6987 - accuracy: 0.7906 - val_loss: 0.4060 - val_accuracy: 0.8916\n",
            "Epoch 5/5\n",
            "191/191 [==============================] - 0s 424us/sample - loss: 0.5059 - accuracy: 0.8272 - val_loss: 0.3083 - val_accuracy: 0.9759\n"
          ],
          "name": "stdout"
        }
      ]
    }
  ]
}