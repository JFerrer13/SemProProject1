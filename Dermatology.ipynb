{
  "nbformat": 4,
  "nbformat_minor": 0,
  "metadata": {
    "colab": {
      "name": "Dermatology.ipynb",
      "provenance": [],
      "collapsed_sections": [],
      "toc_visible": true,
      "include_colab_link": true
    },
    "kernelspec": {
      "name": "python3",
      "display_name": "Python 3"
    }
  },
  "cells": [
    {
      "cell_type": "markdown",
      "metadata": {
        "id": "view-in-github",
        "colab_type": "text"
      },
      "source": [
        "<a href=\"https://colab.research.google.com/github/KevinHern/SemProProject1/blob/master/Dermatology.ipynb\" target=\"_parent\"><img src=\"https://colab.research.google.com/assets/colab-badge.svg\" alt=\"Open In Colab\"/></a>"
      ]
    },
    {
      "cell_type": "markdown",
      "metadata": {
        "id": "f-jHyHSwTeIG",
        "colab_type": "text"
      },
      "source": [
        "# Librerías"
      ]
    },
    {
      "cell_type": "code",
      "metadata": {
        "id": "HtHAuPSa5Rpp",
        "colab_type": "code",
        "colab": {}
      },
      "source": [
        "%tensorflow_version 2.x\n",
        "\n",
        "import tensorflow as tf\n",
        "import tensorflow_hub as hub\n",
        "\n",
        "from tensorflow.keras import Sequential\n",
        "from tensorflow.keras.utils import get_file\n",
        "from tensorflow.keras.applications import ResNet50V2\n",
        "from tensorflow.keras.layers import Dense, GlobalAveragePooling2D, Flatten\n",
        "from tensorflow.keras.preprocessing.image import ImageDataGenerator\n",
        "\n",
        "\n",
        "import os\n",
        "import shutil\n",
        "import numpy as np\n",
        "import PIL.Image as Image\n",
        "import matplotlib.pyplot as plt\n",
        "import pandas as pd\n",
        "import seaborn as sns\n",
        "import math\n",
        "\n",
        "#dark mode\n",
        "plt.rc_context({'xtick.color':'w', 'ytick.color':'w', 'text.color':'w', 'axes.labelcolor':'w'})\n",
        "\n",
        "seed=1234\n",
        "np.random.seed(seed)\n",
        "tf.random.set_seed(seed)"
      ],
      "execution_count": 0,
      "outputs": []
    },
    {
      "cell_type": "markdown",
      "metadata": {
        "id": "I7AKjNq-TkuM",
        "colab_type": "text"
      },
      "source": [
        "# Dataset"
      ]
    },
    {
      "cell_type": "markdown",
      "metadata": {
        "id": "J2IeGb7CT3OR",
        "colab_type": "text"
      },
      "source": [
        "## Extracting"
      ]
    },
    {
      "cell_type": "code",
      "metadata": {
        "id": "XH-YqTSB_Phm",
        "colab_type": "code",
        "colab": {}
      },
      "source": [
        "df = pd.read_csv('https://raw.githubusercontent.com/KevinHern/SemProProject1/master/dermatology.csv')"
      ],
      "execution_count": 0,
      "outputs": []
    },
    {
      "cell_type": "markdown",
      "metadata": {
        "id": "wKpSISAoT5U7",
        "colab_type": "text"
      },
      "source": [
        "## Getting to know the Dataset"
      ]
    },
    {
      "cell_type": "code",
      "metadata": {
        "id": "D73Um3Fs_0Cb",
        "colab_type": "code",
        "outputId": "8ad56f6e-58e6-4746-99b3-3376a3111679",
        "colab": {
          "base_uri": "https://localhost:8080/",
          "height": 215
        }
      },
      "source": [
        "df.head()"
      ],
      "execution_count": 332,
      "outputs": [
        {
          "output_type": "execute_result",
          "data": {
            "text/html": [
              "<div>\n",
              "<style scoped>\n",
              "    .dataframe tbody tr th:only-of-type {\n",
              "        vertical-align: middle;\n",
              "    }\n",
              "\n",
              "    .dataframe tbody tr th {\n",
              "        vertical-align: top;\n",
              "    }\n",
              "\n",
              "    .dataframe thead th {\n",
              "        text-align: right;\n",
              "    }\n",
              "</style>\n",
              "<table border=\"1\" class=\"dataframe\">\n",
              "  <thead>\n",
              "    <tr style=\"text-align: right;\">\n",
              "      <th></th>\n",
              "      <th>2</th>\n",
              "      <th>2.1</th>\n",
              "      <th>0</th>\n",
              "      <th>3</th>\n",
              "      <th>0.1</th>\n",
              "      <th>0.2</th>\n",
              "      <th>0.3</th>\n",
              "      <th>0.4</th>\n",
              "      <th>1</th>\n",
              "      <th>0.5</th>\n",
              "      <th>0.6</th>\n",
              "      <th>0.7</th>\n",
              "      <th>0.8</th>\n",
              "      <th>0.9</th>\n",
              "      <th>0.10</th>\n",
              "      <th>3.1</th>\n",
              "      <th>2.2</th>\n",
              "      <th>0.11</th>\n",
              "      <th>0.12</th>\n",
              "      <th>0.13</th>\n",
              "      <th>0.14</th>\n",
              "      <th>0.15</th>\n",
              "      <th>0.16</th>\n",
              "      <th>0.17</th>\n",
              "      <th>0.18</th>\n",
              "      <th>0.19</th>\n",
              "      <th>0.20</th>\n",
              "      <th>3.2</th>\n",
              "      <th>0.21</th>\n",
              "      <th>0.22</th>\n",
              "      <th>0.23</th>\n",
              "      <th>1.1</th>\n",
              "      <th>0.24</th>\n",
              "      <th>55</th>\n",
              "      <th>2.3</th>\n",
              "    </tr>\n",
              "  </thead>\n",
              "  <tbody>\n",
              "    <tr>\n",
              "      <th>0</th>\n",
              "      <td>3</td>\n",
              "      <td>3</td>\n",
              "      <td>3</td>\n",
              "      <td>2</td>\n",
              "      <td>1</td>\n",
              "      <td>0</td>\n",
              "      <td>0</td>\n",
              "      <td>0</td>\n",
              "      <td>1</td>\n",
              "      <td>1</td>\n",
              "      <td>1</td>\n",
              "      <td>0</td>\n",
              "      <td>0</td>\n",
              "      <td>1</td>\n",
              "      <td>0</td>\n",
              "      <td>1</td>\n",
              "      <td>2</td>\n",
              "      <td>0</td>\n",
              "      <td>2</td>\n",
              "      <td>2</td>\n",
              "      <td>2</td>\n",
              "      <td>2</td>\n",
              "      <td>2</td>\n",
              "      <td>1</td>\n",
              "      <td>0</td>\n",
              "      <td>0</td>\n",
              "      <td>0</td>\n",
              "      <td>0</td>\n",
              "      <td>0</td>\n",
              "      <td>0</td>\n",
              "      <td>0</td>\n",
              "      <td>1</td>\n",
              "      <td>0</td>\n",
              "      <td>8</td>\n",
              "      <td>1</td>\n",
              "    </tr>\n",
              "    <tr>\n",
              "      <th>1</th>\n",
              "      <td>2</td>\n",
              "      <td>1</td>\n",
              "      <td>2</td>\n",
              "      <td>3</td>\n",
              "      <td>1</td>\n",
              "      <td>3</td>\n",
              "      <td>0</td>\n",
              "      <td>3</td>\n",
              "      <td>0</td>\n",
              "      <td>0</td>\n",
              "      <td>0</td>\n",
              "      <td>1</td>\n",
              "      <td>0</td>\n",
              "      <td>0</td>\n",
              "      <td>0</td>\n",
              "      <td>1</td>\n",
              "      <td>2</td>\n",
              "      <td>0</td>\n",
              "      <td>2</td>\n",
              "      <td>0</td>\n",
              "      <td>0</td>\n",
              "      <td>0</td>\n",
              "      <td>0</td>\n",
              "      <td>0</td>\n",
              "      <td>2</td>\n",
              "      <td>0</td>\n",
              "      <td>2</td>\n",
              "      <td>3</td>\n",
              "      <td>2</td>\n",
              "      <td>0</td>\n",
              "      <td>0</td>\n",
              "      <td>2</td>\n",
              "      <td>3</td>\n",
              "      <td>26</td>\n",
              "      <td>3</td>\n",
              "    </tr>\n",
              "    <tr>\n",
              "      <th>2</th>\n",
              "      <td>2</td>\n",
              "      <td>2</td>\n",
              "      <td>2</td>\n",
              "      <td>0</td>\n",
              "      <td>0</td>\n",
              "      <td>0</td>\n",
              "      <td>0</td>\n",
              "      <td>0</td>\n",
              "      <td>3</td>\n",
              "      <td>2</td>\n",
              "      <td>0</td>\n",
              "      <td>0</td>\n",
              "      <td>0</td>\n",
              "      <td>3</td>\n",
              "      <td>0</td>\n",
              "      <td>0</td>\n",
              "      <td>2</td>\n",
              "      <td>0</td>\n",
              "      <td>3</td>\n",
              "      <td>2</td>\n",
              "      <td>2</td>\n",
              "      <td>2</td>\n",
              "      <td>2</td>\n",
              "      <td>0</td>\n",
              "      <td>0</td>\n",
              "      <td>3</td>\n",
              "      <td>0</td>\n",
              "      <td>0</td>\n",
              "      <td>0</td>\n",
              "      <td>0</td>\n",
              "      <td>0</td>\n",
              "      <td>3</td>\n",
              "      <td>0</td>\n",
              "      <td>40</td>\n",
              "      <td>1</td>\n",
              "    </tr>\n",
              "    <tr>\n",
              "      <th>3</th>\n",
              "      <td>2</td>\n",
              "      <td>3</td>\n",
              "      <td>2</td>\n",
              "      <td>2</td>\n",
              "      <td>2</td>\n",
              "      <td>2</td>\n",
              "      <td>0</td>\n",
              "      <td>2</td>\n",
              "      <td>0</td>\n",
              "      <td>0</td>\n",
              "      <td>0</td>\n",
              "      <td>1</td>\n",
              "      <td>0</td>\n",
              "      <td>0</td>\n",
              "      <td>0</td>\n",
              "      <td>1</td>\n",
              "      <td>2</td>\n",
              "      <td>0</td>\n",
              "      <td>0</td>\n",
              "      <td>0</td>\n",
              "      <td>0</td>\n",
              "      <td>0</td>\n",
              "      <td>0</td>\n",
              "      <td>0</td>\n",
              "      <td>2</td>\n",
              "      <td>2</td>\n",
              "      <td>3</td>\n",
              "      <td>2</td>\n",
              "      <td>3</td>\n",
              "      <td>0</td>\n",
              "      <td>0</td>\n",
              "      <td>2</td>\n",
              "      <td>3</td>\n",
              "      <td>45</td>\n",
              "      <td>3</td>\n",
              "    </tr>\n",
              "    <tr>\n",
              "      <th>4</th>\n",
              "      <td>2</td>\n",
              "      <td>3</td>\n",
              "      <td>2</td>\n",
              "      <td>0</td>\n",
              "      <td>0</td>\n",
              "      <td>0</td>\n",
              "      <td>0</td>\n",
              "      <td>0</td>\n",
              "      <td>0</td>\n",
              "      <td>0</td>\n",
              "      <td>0</td>\n",
              "      <td>0</td>\n",
              "      <td>2</td>\n",
              "      <td>1</td>\n",
              "      <td>0</td>\n",
              "      <td>2</td>\n",
              "      <td>2</td>\n",
              "      <td>0</td>\n",
              "      <td>2</td>\n",
              "      <td>0</td>\n",
              "      <td>0</td>\n",
              "      <td>0</td>\n",
              "      <td>1</td>\n",
              "      <td>0</td>\n",
              "      <td>0</td>\n",
              "      <td>0</td>\n",
              "      <td>0</td>\n",
              "      <td>2</td>\n",
              "      <td>0</td>\n",
              "      <td>0</td>\n",
              "      <td>0</td>\n",
              "      <td>1</td>\n",
              "      <td>0</td>\n",
              "      <td>41</td>\n",
              "      <td>2</td>\n",
              "    </tr>\n",
              "  </tbody>\n",
              "</table>\n",
              "</div>"
            ],
            "text/plain": [
              "   2  2.1  0  3  0.1  0.2  0.3  0.4  ...  3.2  0.21  0.22  0.23  1.1  0.24  55  2.3\n",
              "0  3    3  3  2    1    0    0    0  ...    0     0     0     0    1     0   8    1\n",
              "1  2    1  2  3    1    3    0    3  ...    3     2     0     0    2     3  26    3\n",
              "2  2    2  2  0    0    0    0    0  ...    0     0     0     0    3     0  40    1\n",
              "3  2    3  2  2    2    2    0    2  ...    2     3     0     0    2     3  45    3\n",
              "4  2    3  2  0    0    0    0    0  ...    2     0     0     0    1     0  41    2\n",
              "\n",
              "[5 rows x 35 columns]"
            ]
          },
          "metadata": {
            "tags": []
          },
          "execution_count": 332
        }
      ]
    },
    {
      "cell_type": "code",
      "metadata": {
        "id": "MQ9y8Ty3_6L_",
        "colab_type": "code",
        "colab": {}
      },
      "source": [
        "df.columns = ['erythema', 'scaling', 'definite borders', 'itching', 'koebner phenomenon', \n",
        "              'polygonal papules', 'follicular papules', 'oral mucosal involvement', \n",
        "              'knee and elbow involvement', 'scalp involvement', 'history', \n",
        "               'melanin incontinence', 'eosinophils in the infiltrate', 'PNL infiltrate', \n",
        "              'fibrosis of the papillary dermis', 'exocytosis', 'acanthosis', 'hyperkeratosis', \n",
        "              'parakeratosis', 'clubbing of the rete ridges', 'elongation of the rete ridges', \n",
        "              'thinning of the suprapapillary epidermis', 'spongiform pustule', 'munro microabcess',\n",
        "              'focal hypergranulosis', 'disappearance of the granular layer', \n",
        "              'vacuolisation and damage of basal layer', 'spongiosis', \n",
        "              'saw-tooth appearance of retes', 'follicular horn plug', \n",
        "              'perifollicular parakeratosis', 'inflammatory monoluclear inflitrate', 'band-like infiltrate','Age', 'Classcode']\n",
        "df['Classcode'] = df['Classcode'] - 1"
      ],
      "execution_count": 0,
      "outputs": []
    },
    {
      "cell_type": "code",
      "metadata": {
        "id": "1kvBh5pPCKfd",
        "colab_type": "code",
        "outputId": "cffc888e-412b-4a2d-89f0-a7382475c276",
        "colab": {
          "base_uri": "https://localhost:8080/",
          "height": 472
        }
      },
      "source": [
        "df"
      ],
      "execution_count": 334,
      "outputs": [
        {
          "output_type": "execute_result",
          "data": {
            "text/html": [
              "<div>\n",
              "<style scoped>\n",
              "    .dataframe tbody tr th:only-of-type {\n",
              "        vertical-align: middle;\n",
              "    }\n",
              "\n",
              "    .dataframe tbody tr th {\n",
              "        vertical-align: top;\n",
              "    }\n",
              "\n",
              "    .dataframe thead th {\n",
              "        text-align: right;\n",
              "    }\n",
              "</style>\n",
              "<table border=\"1\" class=\"dataframe\">\n",
              "  <thead>\n",
              "    <tr style=\"text-align: right;\">\n",
              "      <th></th>\n",
              "      <th>erythema</th>\n",
              "      <th>scaling</th>\n",
              "      <th>definite borders</th>\n",
              "      <th>itching</th>\n",
              "      <th>koebner phenomenon</th>\n",
              "      <th>polygonal papules</th>\n",
              "      <th>follicular papules</th>\n",
              "      <th>oral mucosal involvement</th>\n",
              "      <th>knee and elbow involvement</th>\n",
              "      <th>scalp involvement</th>\n",
              "      <th>history</th>\n",
              "      <th>melanin incontinence</th>\n",
              "      <th>eosinophils in the infiltrate</th>\n",
              "      <th>PNL infiltrate</th>\n",
              "      <th>fibrosis of the papillary dermis</th>\n",
              "      <th>exocytosis</th>\n",
              "      <th>acanthosis</th>\n",
              "      <th>hyperkeratosis</th>\n",
              "      <th>parakeratosis</th>\n",
              "      <th>clubbing of the rete ridges</th>\n",
              "      <th>elongation of the rete ridges</th>\n",
              "      <th>thinning of the suprapapillary epidermis</th>\n",
              "      <th>spongiform pustule</th>\n",
              "      <th>munro microabcess</th>\n",
              "      <th>focal hypergranulosis</th>\n",
              "      <th>disappearance of the granular layer</th>\n",
              "      <th>vacuolisation and damage of basal layer</th>\n",
              "      <th>spongiosis</th>\n",
              "      <th>saw-tooth appearance of retes</th>\n",
              "      <th>follicular horn plug</th>\n",
              "      <th>perifollicular parakeratosis</th>\n",
              "      <th>inflammatory monoluclear inflitrate</th>\n",
              "      <th>band-like infiltrate</th>\n",
              "      <th>Age</th>\n",
              "      <th>Classcode</th>\n",
              "    </tr>\n",
              "  </thead>\n",
              "  <tbody>\n",
              "    <tr>\n",
              "      <th>0</th>\n",
              "      <td>3</td>\n",
              "      <td>3</td>\n",
              "      <td>3</td>\n",
              "      <td>2</td>\n",
              "      <td>1</td>\n",
              "      <td>0</td>\n",
              "      <td>0</td>\n",
              "      <td>0</td>\n",
              "      <td>1</td>\n",
              "      <td>1</td>\n",
              "      <td>1</td>\n",
              "      <td>0</td>\n",
              "      <td>0</td>\n",
              "      <td>1</td>\n",
              "      <td>0</td>\n",
              "      <td>1</td>\n",
              "      <td>2</td>\n",
              "      <td>0</td>\n",
              "      <td>2</td>\n",
              "      <td>2</td>\n",
              "      <td>2</td>\n",
              "      <td>2</td>\n",
              "      <td>2</td>\n",
              "      <td>1</td>\n",
              "      <td>0</td>\n",
              "      <td>0</td>\n",
              "      <td>0</td>\n",
              "      <td>0</td>\n",
              "      <td>0</td>\n",
              "      <td>0</td>\n",
              "      <td>0</td>\n",
              "      <td>1</td>\n",
              "      <td>0</td>\n",
              "      <td>8</td>\n",
              "      <td>0</td>\n",
              "    </tr>\n",
              "    <tr>\n",
              "      <th>1</th>\n",
              "      <td>2</td>\n",
              "      <td>1</td>\n",
              "      <td>2</td>\n",
              "      <td>3</td>\n",
              "      <td>1</td>\n",
              "      <td>3</td>\n",
              "      <td>0</td>\n",
              "      <td>3</td>\n",
              "      <td>0</td>\n",
              "      <td>0</td>\n",
              "      <td>0</td>\n",
              "      <td>1</td>\n",
              "      <td>0</td>\n",
              "      <td>0</td>\n",
              "      <td>0</td>\n",
              "      <td>1</td>\n",
              "      <td>2</td>\n",
              "      <td>0</td>\n",
              "      <td>2</td>\n",
              "      <td>0</td>\n",
              "      <td>0</td>\n",
              "      <td>0</td>\n",
              "      <td>0</td>\n",
              "      <td>0</td>\n",
              "      <td>2</td>\n",
              "      <td>0</td>\n",
              "      <td>2</td>\n",
              "      <td>3</td>\n",
              "      <td>2</td>\n",
              "      <td>0</td>\n",
              "      <td>0</td>\n",
              "      <td>2</td>\n",
              "      <td>3</td>\n",
              "      <td>26</td>\n",
              "      <td>2</td>\n",
              "    </tr>\n",
              "    <tr>\n",
              "      <th>2</th>\n",
              "      <td>2</td>\n",
              "      <td>2</td>\n",
              "      <td>2</td>\n",
              "      <td>0</td>\n",
              "      <td>0</td>\n",
              "      <td>0</td>\n",
              "      <td>0</td>\n",
              "      <td>0</td>\n",
              "      <td>3</td>\n",
              "      <td>2</td>\n",
              "      <td>0</td>\n",
              "      <td>0</td>\n",
              "      <td>0</td>\n",
              "      <td>3</td>\n",
              "      <td>0</td>\n",
              "      <td>0</td>\n",
              "      <td>2</td>\n",
              "      <td>0</td>\n",
              "      <td>3</td>\n",
              "      <td>2</td>\n",
              "      <td>2</td>\n",
              "      <td>2</td>\n",
              "      <td>2</td>\n",
              "      <td>0</td>\n",
              "      <td>0</td>\n",
              "      <td>3</td>\n",
              "      <td>0</td>\n",
              "      <td>0</td>\n",
              "      <td>0</td>\n",
              "      <td>0</td>\n",
              "      <td>0</td>\n",
              "      <td>3</td>\n",
              "      <td>0</td>\n",
              "      <td>40</td>\n",
              "      <td>0</td>\n",
              "    </tr>\n",
              "    <tr>\n",
              "      <th>3</th>\n",
              "      <td>2</td>\n",
              "      <td>3</td>\n",
              "      <td>2</td>\n",
              "      <td>2</td>\n",
              "      <td>2</td>\n",
              "      <td>2</td>\n",
              "      <td>0</td>\n",
              "      <td>2</td>\n",
              "      <td>0</td>\n",
              "      <td>0</td>\n",
              "      <td>0</td>\n",
              "      <td>1</td>\n",
              "      <td>0</td>\n",
              "      <td>0</td>\n",
              "      <td>0</td>\n",
              "      <td>1</td>\n",
              "      <td>2</td>\n",
              "      <td>0</td>\n",
              "      <td>0</td>\n",
              "      <td>0</td>\n",
              "      <td>0</td>\n",
              "      <td>0</td>\n",
              "      <td>0</td>\n",
              "      <td>0</td>\n",
              "      <td>2</td>\n",
              "      <td>2</td>\n",
              "      <td>3</td>\n",
              "      <td>2</td>\n",
              "      <td>3</td>\n",
              "      <td>0</td>\n",
              "      <td>0</td>\n",
              "      <td>2</td>\n",
              "      <td>3</td>\n",
              "      <td>45</td>\n",
              "      <td>2</td>\n",
              "    </tr>\n",
              "    <tr>\n",
              "      <th>4</th>\n",
              "      <td>2</td>\n",
              "      <td>3</td>\n",
              "      <td>2</td>\n",
              "      <td>0</td>\n",
              "      <td>0</td>\n",
              "      <td>0</td>\n",
              "      <td>0</td>\n",
              "      <td>0</td>\n",
              "      <td>0</td>\n",
              "      <td>0</td>\n",
              "      <td>0</td>\n",
              "      <td>0</td>\n",
              "      <td>2</td>\n",
              "      <td>1</td>\n",
              "      <td>0</td>\n",
              "      <td>2</td>\n",
              "      <td>2</td>\n",
              "      <td>0</td>\n",
              "      <td>2</td>\n",
              "      <td>0</td>\n",
              "      <td>0</td>\n",
              "      <td>0</td>\n",
              "      <td>1</td>\n",
              "      <td>0</td>\n",
              "      <td>0</td>\n",
              "      <td>0</td>\n",
              "      <td>0</td>\n",
              "      <td>2</td>\n",
              "      <td>0</td>\n",
              "      <td>0</td>\n",
              "      <td>0</td>\n",
              "      <td>1</td>\n",
              "      <td>0</td>\n",
              "      <td>41</td>\n",
              "      <td>1</td>\n",
              "    </tr>\n",
              "    <tr>\n",
              "      <th>...</th>\n",
              "      <td>...</td>\n",
              "      <td>...</td>\n",
              "      <td>...</td>\n",
              "      <td>...</td>\n",
              "      <td>...</td>\n",
              "      <td>...</td>\n",
              "      <td>...</td>\n",
              "      <td>...</td>\n",
              "      <td>...</td>\n",
              "      <td>...</td>\n",
              "      <td>...</td>\n",
              "      <td>...</td>\n",
              "      <td>...</td>\n",
              "      <td>...</td>\n",
              "      <td>...</td>\n",
              "      <td>...</td>\n",
              "      <td>...</td>\n",
              "      <td>...</td>\n",
              "      <td>...</td>\n",
              "      <td>...</td>\n",
              "      <td>...</td>\n",
              "      <td>...</td>\n",
              "      <td>...</td>\n",
              "      <td>...</td>\n",
              "      <td>...</td>\n",
              "      <td>...</td>\n",
              "      <td>...</td>\n",
              "      <td>...</td>\n",
              "      <td>...</td>\n",
              "      <td>...</td>\n",
              "      <td>...</td>\n",
              "      <td>...</td>\n",
              "      <td>...</td>\n",
              "      <td>...</td>\n",
              "      <td>...</td>\n",
              "    </tr>\n",
              "    <tr>\n",
              "      <th>360</th>\n",
              "      <td>2</td>\n",
              "      <td>1</td>\n",
              "      <td>1</td>\n",
              "      <td>0</td>\n",
              "      <td>1</td>\n",
              "      <td>0</td>\n",
              "      <td>0</td>\n",
              "      <td>0</td>\n",
              "      <td>0</td>\n",
              "      <td>0</td>\n",
              "      <td>0</td>\n",
              "      <td>0</td>\n",
              "      <td>0</td>\n",
              "      <td>1</td>\n",
              "      <td>0</td>\n",
              "      <td>1</td>\n",
              "      <td>1</td>\n",
              "      <td>0</td>\n",
              "      <td>0</td>\n",
              "      <td>0</td>\n",
              "      <td>0</td>\n",
              "      <td>0</td>\n",
              "      <td>0</td>\n",
              "      <td>0</td>\n",
              "      <td>0</td>\n",
              "      <td>0</td>\n",
              "      <td>0</td>\n",
              "      <td>1</td>\n",
              "      <td>0</td>\n",
              "      <td>0</td>\n",
              "      <td>0</td>\n",
              "      <td>2</td>\n",
              "      <td>0</td>\n",
              "      <td>25</td>\n",
              "      <td>3</td>\n",
              "    </tr>\n",
              "    <tr>\n",
              "      <th>361</th>\n",
              "      <td>3</td>\n",
              "      <td>2</td>\n",
              "      <td>1</td>\n",
              "      <td>0</td>\n",
              "      <td>1</td>\n",
              "      <td>0</td>\n",
              "      <td>0</td>\n",
              "      <td>0</td>\n",
              "      <td>0</td>\n",
              "      <td>0</td>\n",
              "      <td>0</td>\n",
              "      <td>0</td>\n",
              "      <td>0</td>\n",
              "      <td>0</td>\n",
              "      <td>0</td>\n",
              "      <td>2</td>\n",
              "      <td>2</td>\n",
              "      <td>0</td>\n",
              "      <td>0</td>\n",
              "      <td>0</td>\n",
              "      <td>0</td>\n",
              "      <td>0</td>\n",
              "      <td>0</td>\n",
              "      <td>0</td>\n",
              "      <td>0</td>\n",
              "      <td>1</td>\n",
              "      <td>0</td>\n",
              "      <td>1</td>\n",
              "      <td>0</td>\n",
              "      <td>0</td>\n",
              "      <td>0</td>\n",
              "      <td>2</td>\n",
              "      <td>0</td>\n",
              "      <td>36</td>\n",
              "      <td>3</td>\n",
              "    </tr>\n",
              "    <tr>\n",
              "      <th>362</th>\n",
              "      <td>3</td>\n",
              "      <td>2</td>\n",
              "      <td>2</td>\n",
              "      <td>2</td>\n",
              "      <td>3</td>\n",
              "      <td>2</td>\n",
              "      <td>0</td>\n",
              "      <td>2</td>\n",
              "      <td>0</td>\n",
              "      <td>0</td>\n",
              "      <td>0</td>\n",
              "      <td>2</td>\n",
              "      <td>2</td>\n",
              "      <td>0</td>\n",
              "      <td>0</td>\n",
              "      <td>3</td>\n",
              "      <td>3</td>\n",
              "      <td>0</td>\n",
              "      <td>0</td>\n",
              "      <td>0</td>\n",
              "      <td>0</td>\n",
              "      <td>0</td>\n",
              "      <td>0</td>\n",
              "      <td>0</td>\n",
              "      <td>3</td>\n",
              "      <td>0</td>\n",
              "      <td>3</td>\n",
              "      <td>0</td>\n",
              "      <td>3</td>\n",
              "      <td>0</td>\n",
              "      <td>0</td>\n",
              "      <td>2</td>\n",
              "      <td>3</td>\n",
              "      <td>28</td>\n",
              "      <td>2</td>\n",
              "    </tr>\n",
              "    <tr>\n",
              "      <th>363</th>\n",
              "      <td>2</td>\n",
              "      <td>1</td>\n",
              "      <td>3</td>\n",
              "      <td>1</td>\n",
              "      <td>2</td>\n",
              "      <td>3</td>\n",
              "      <td>0</td>\n",
              "      <td>2</td>\n",
              "      <td>0</td>\n",
              "      <td>0</td>\n",
              "      <td>0</td>\n",
              "      <td>2</td>\n",
              "      <td>0</td>\n",
              "      <td>0</td>\n",
              "      <td>0</td>\n",
              "      <td>3</td>\n",
              "      <td>2</td>\n",
              "      <td>0</td>\n",
              "      <td>0</td>\n",
              "      <td>0</td>\n",
              "      <td>0</td>\n",
              "      <td>0</td>\n",
              "      <td>0</td>\n",
              "      <td>0</td>\n",
              "      <td>3</td>\n",
              "      <td>0</td>\n",
              "      <td>2</td>\n",
              "      <td>0</td>\n",
              "      <td>1</td>\n",
              "      <td>0</td>\n",
              "      <td>0</td>\n",
              "      <td>2</td>\n",
              "      <td>3</td>\n",
              "      <td>50</td>\n",
              "      <td>2</td>\n",
              "    </tr>\n",
              "    <tr>\n",
              "      <th>364</th>\n",
              "      <td>3</td>\n",
              "      <td>2</td>\n",
              "      <td>2</td>\n",
              "      <td>0</td>\n",
              "      <td>0</td>\n",
              "      <td>0</td>\n",
              "      <td>0</td>\n",
              "      <td>0</td>\n",
              "      <td>3</td>\n",
              "      <td>3</td>\n",
              "      <td>0</td>\n",
              "      <td>0</td>\n",
              "      <td>0</td>\n",
              "      <td>1</td>\n",
              "      <td>0</td>\n",
              "      <td>0</td>\n",
              "      <td>2</td>\n",
              "      <td>0</td>\n",
              "      <td>2</td>\n",
              "      <td>3</td>\n",
              "      <td>2</td>\n",
              "      <td>3</td>\n",
              "      <td>0</td>\n",
              "      <td>2</td>\n",
              "      <td>0</td>\n",
              "      <td>2</td>\n",
              "      <td>0</td>\n",
              "      <td>0</td>\n",
              "      <td>0</td>\n",
              "      <td>0</td>\n",
              "      <td>0</td>\n",
              "      <td>3</td>\n",
              "      <td>0</td>\n",
              "      <td>35</td>\n",
              "      <td>0</td>\n",
              "    </tr>\n",
              "  </tbody>\n",
              "</table>\n",
              "<p>365 rows × 35 columns</p>\n",
              "</div>"
            ],
            "text/plain": [
              "     erythema  scaling  definite borders  ...  band-like infiltrate  Age  Classcode\n",
              "0           3        3                 3  ...                     0    8          0\n",
              "1           2        1                 2  ...                     3   26          2\n",
              "2           2        2                 2  ...                     0   40          0\n",
              "3           2        3                 2  ...                     3   45          2\n",
              "4           2        3                 2  ...                     0   41          1\n",
              "..        ...      ...               ...  ...                   ...  ...        ...\n",
              "360         2        1                 1  ...                     0   25          3\n",
              "361         3        2                 1  ...                     0   36          3\n",
              "362         3        2                 2  ...                     3   28          2\n",
              "363         2        1                 3  ...                     3   50          2\n",
              "364         3        2                 2  ...                     0   35          0\n",
              "\n",
              "[365 rows x 35 columns]"
            ]
          },
          "metadata": {
            "tags": []
          },
          "execution_count": 334
        }
      ]
    },
    {
      "cell_type": "markdown",
      "metadata": {
        "id": "DHkUAPvzT98v",
        "colab_type": "text"
      },
      "source": [
        "## Cleaning Dataset"
      ]
    },
    {
      "cell_type": "code",
      "metadata": {
        "id": "ie4vB9ZmRC2E",
        "colab_type": "code",
        "outputId": "c8c07d26-6a3d-4e8a-b091-ffc1c6f0457a",
        "colab": {
          "base_uri": "https://localhost:8080/",
          "height": 34
        }
      },
      "source": [
        "temp = df[df['Age'] != '?']\n",
        "temp = temp.astype(int)\n",
        "meanAge = math.floor(temp['Age'].mean())\n",
        "meanAge"
      ],
      "execution_count": 335,
      "outputs": [
        {
          "output_type": "execute_result",
          "data": {
            "text/plain": [
              "36"
            ]
          },
          "metadata": {
            "tags": []
          },
          "execution_count": 335
        }
      ]
    },
    {
      "cell_type": "code",
      "metadata": {
        "id": "beOoKeECVL0n",
        "colab_type": "code",
        "outputId": "fa1c4516-b747-42e4-ecfc-98d216b2fe20",
        "colab": {
          "base_uri": "https://localhost:8080/",
          "height": 118
        }
      },
      "source": [
        "df = df.replace('?', meanAge)\n",
        "df[df['Age'] == '?']"
      ],
      "execution_count": 336,
      "outputs": [
        {
          "output_type": "execute_result",
          "data": {
            "text/html": [
              "<div>\n",
              "<style scoped>\n",
              "    .dataframe tbody tr th:only-of-type {\n",
              "        vertical-align: middle;\n",
              "    }\n",
              "\n",
              "    .dataframe tbody tr th {\n",
              "        vertical-align: top;\n",
              "    }\n",
              "\n",
              "    .dataframe thead th {\n",
              "        text-align: right;\n",
              "    }\n",
              "</style>\n",
              "<table border=\"1\" class=\"dataframe\">\n",
              "  <thead>\n",
              "    <tr style=\"text-align: right;\">\n",
              "      <th></th>\n",
              "      <th>erythema</th>\n",
              "      <th>scaling</th>\n",
              "      <th>definite borders</th>\n",
              "      <th>itching</th>\n",
              "      <th>koebner phenomenon</th>\n",
              "      <th>polygonal papules</th>\n",
              "      <th>follicular papules</th>\n",
              "      <th>oral mucosal involvement</th>\n",
              "      <th>knee and elbow involvement</th>\n",
              "      <th>scalp involvement</th>\n",
              "      <th>history</th>\n",
              "      <th>melanin incontinence</th>\n",
              "      <th>eosinophils in the infiltrate</th>\n",
              "      <th>PNL infiltrate</th>\n",
              "      <th>fibrosis of the papillary dermis</th>\n",
              "      <th>exocytosis</th>\n",
              "      <th>acanthosis</th>\n",
              "      <th>hyperkeratosis</th>\n",
              "      <th>parakeratosis</th>\n",
              "      <th>clubbing of the rete ridges</th>\n",
              "      <th>elongation of the rete ridges</th>\n",
              "      <th>thinning of the suprapapillary epidermis</th>\n",
              "      <th>spongiform pustule</th>\n",
              "      <th>munro microabcess</th>\n",
              "      <th>focal hypergranulosis</th>\n",
              "      <th>disappearance of the granular layer</th>\n",
              "      <th>vacuolisation and damage of basal layer</th>\n",
              "      <th>spongiosis</th>\n",
              "      <th>saw-tooth appearance of retes</th>\n",
              "      <th>follicular horn plug</th>\n",
              "      <th>perifollicular parakeratosis</th>\n",
              "      <th>inflammatory monoluclear inflitrate</th>\n",
              "      <th>band-like infiltrate</th>\n",
              "      <th>Age</th>\n",
              "      <th>Classcode</th>\n",
              "    </tr>\n",
              "  </thead>\n",
              "  <tbody>\n",
              "  </tbody>\n",
              "</table>\n",
              "</div>"
            ],
            "text/plain": [
              "Empty DataFrame\n",
              "Columns: [erythema, scaling, definite borders, itching, koebner phenomenon, polygonal papules, follicular papules, oral mucosal involvement, knee and elbow involvement, scalp involvement, history, melanin incontinence, eosinophils in the infiltrate, PNL infiltrate, fibrosis of the papillary dermis, exocytosis, acanthosis, hyperkeratosis, parakeratosis, clubbing of the rete ridges, elongation of the rete ridges, thinning of the suprapapillary epidermis, spongiform pustule, munro microabcess, focal hypergranulosis, disappearance of the granular layer, vacuolisation and damage of basal layer, spongiosis, saw-tooth appearance of retes, follicular horn plug, perifollicular parakeratosis, inflammatory monoluclear inflitrate, band-like infiltrate, Age, Classcode]\n",
              "Index: []"
            ]
          },
          "metadata": {
            "tags": []
          },
          "execution_count": 336
        }
      ]
    },
    {
      "cell_type": "code",
      "metadata": {
        "id": "_AMS-3MpVZ1l",
        "colab_type": "code",
        "outputId": "cbc0468a-f655-4bd9-bf15-fdbcc2313262",
        "colab": {
          "base_uri": "https://localhost:8080/",
          "height": 650
        }
      },
      "source": [
        "for i in df.columns:\n",
        "  df[i] = df[i].astype(int)\n",
        "df.dtypes"
      ],
      "execution_count": 337,
      "outputs": [
        {
          "output_type": "execute_result",
          "data": {
            "text/plain": [
              "erythema                                    int64\n",
              "scaling                                     int64\n",
              "definite borders                            int64\n",
              "itching                                     int64\n",
              "koebner phenomenon                          int64\n",
              "polygonal papules                           int64\n",
              "follicular papules                          int64\n",
              "oral mucosal involvement                    int64\n",
              "knee and elbow involvement                  int64\n",
              "scalp involvement                           int64\n",
              "history                                     int64\n",
              "melanin incontinence                        int64\n",
              "eosinophils in the infiltrate               int64\n",
              "PNL infiltrate                              int64\n",
              "fibrosis of the papillary dermis            int64\n",
              "exocytosis                                  int64\n",
              "acanthosis                                  int64\n",
              "hyperkeratosis                              int64\n",
              "parakeratosis                               int64\n",
              "clubbing of the rete ridges                 int64\n",
              "elongation of the rete ridges               int64\n",
              "thinning of the suprapapillary epidermis    int64\n",
              "spongiform pustule                          int64\n",
              "munro microabcess                           int64\n",
              "focal hypergranulosis                       int64\n",
              "disappearance of the granular layer         int64\n",
              "vacuolisation and damage of basal layer     int64\n",
              "spongiosis                                  int64\n",
              "saw-tooth appearance of retes               int64\n",
              "follicular horn plug                        int64\n",
              "perifollicular parakeratosis                int64\n",
              "inflammatory monoluclear inflitrate         int64\n",
              "band-like infiltrate                        int64\n",
              "Age                                         int64\n",
              "Classcode                                   int64\n",
              "dtype: object"
            ]
          },
          "metadata": {
            "tags": []
          },
          "execution_count": 337
        }
      ]
    },
    {
      "cell_type": "markdown",
      "metadata": {
        "id": "g3I-EWyUaA3E",
        "colab_type": "text"
      },
      "source": [
        "## Correlation"
      ]
    },
    {
      "cell_type": "code",
      "metadata": {
        "id": "Dag5Evb--yLV",
        "colab_type": "code",
        "outputId": "4a1be407-8a75-4f43-c973-4f8de75bc310",
        "colab": {
          "base_uri": "https://localhost:8080/",
          "height": 588
        }
      },
      "source": [
        "plt.figure(figsize=(18,6))\n",
        "sns.heatmap(df.isnull(), yticklabels=True, cbar=False, cmap='viridis', xticklabels=True)"
      ],
      "execution_count": 338,
      "outputs": [
        {
          "output_type": "execute_result",
          "data": {
            "text/plain": [
              "<matplotlib.axes._subplots.AxesSubplot at 0x7facc077d128>"
            ]
          },
          "metadata": {
            "tags": []
          },
          "execution_count": 338
        },
        {
          "output_type": "display_data",
          "data": {
            "image/png": "[encoded data removed]",
            "text/plain": [
              "<Figure size 1296x432 with 1 Axes>"
            ]
          },
          "metadata": {
            "tags": []
          }
        }
      ]
    },
    {
      "cell_type": "markdown",
      "metadata": {
        "id": "_TZVA5rdaULE",
        "colab_type": "text"
      },
      "source": [
        "# Models\n",
        "\n",
        "Metodología:\n",
        "Queremos ver qué modelo tiene mejor Accuracy utilizando diversos conjuntos de features\n",
        "Se realizan 4 modelos:\n",
        "\n",
        "1.   Un modelo que utiliza todos los features del dataset.\n",
        "2.   Un modelo que utiliza únicamente los features clínicos\n",
        "3.   Un modelo que utiliza únicamente los datos histopatológicos\n",
        "4.   Un modelo que utiliza los features más importantes extraídos del heatmap\n",
        "\n",
        "El approach que se empleará para determinar qué arquitectura es la mejor continene las siguientes condiciones:\n",
        "\n",
        "*   Los 4 modelos se someterán a los mismos datasets\n",
        "*   Los 4 modelos tendrán las mismas arquitecturas para ser comparables. Las capas ocultas tendrán neuronas en potencias de 2\n",
        "*   Se realizarán 4 pruebas, donde cada prueba se utilizará una arquitectura distinta.\n",
        "\n",
        "\n",
        "\n",
        "\n",
        "\n"
      ]
    },
    {
      "cell_type": "markdown",
      "metadata": {
        "id": "ecm23VSrmyLm",
        "colab_type": "text"
      },
      "source": [
        "## Macro Variables\n",
        "Definición de variables macros que sirven para los epochs, validation split y batch size"
      ]
    },
    {
      "cell_type": "code",
      "metadata": {
        "id": "cU0CSDGFnAUB",
        "colab_type": "code",
        "colab": {}
      },
      "source": [
        "epochs = 5\n",
        "split = 0.2\n",
        "batch = 32"
      ],
      "execution_count": 0,
      "outputs": []
    },
    {
      "cell_type": "markdown",
      "metadata": {
        "id": "OISB58dgihxE",
        "colab_type": "text"
      },
      "source": [
        "## Model Functions\n",
        "\n",
        "Funciones que serán usados en la definición e implementación de los modelos.\n",
        "El propósito es disminuir la cantidad de código que se tiene que escribir"
      ]
    },
    {
      "cell_type": "markdown",
      "metadata": {
        "id": "-Xx6TtMsjiFj",
        "colab_type": "text"
      },
      "source": [
        "#### Models Definitions"
      ]
    },
    {
      "cell_type": "code",
      "metadata": {
        "id": "SZ2g2SvsmfOK",
        "colab_type": "code",
        "colab": {}
      },
      "source": [
        "# 2 Hidden Layer Model Definition\n",
        "def model2h(inputShape):\n",
        "  model = Sequential([\n",
        "      Dense(1024, activation='relu', input_shape=(inputShape,)),\n",
        "      Dense(512, activation='relu'),\n",
        "      Dense(6, activation='softmax')\n",
        "  ])\n",
        "  model.compile(optimizer='adam',\n",
        "              loss='sparse_categorical_crossentropy',\n",
        "              metrics=['accuracy'])\n",
        "  \n",
        "  return model"
      ],
      "execution_count": 0,
      "outputs": []
    },
    {
      "cell_type": "code",
      "metadata": {
        "id": "B2F0QBq-jObi",
        "colab_type": "code",
        "colab": {}
      },
      "source": [
        "# 3 Hidden Layer Model Definition\n",
        "def model3h(inputShape):\n",
        "  model = Sequential([\n",
        "      Dense(1024, activation='relu', input_shape=(inputShape,)),\n",
        "      Dense(512, activation='relu'),\n",
        "      Dense(256, activation='relu'),\n",
        "      Dense(6, activation='softmax')\n",
        "  ])\n",
        "  model.compile(optimizer='adam',\n",
        "              loss='sparse_categorical_crossentropy',\n",
        "              metrics=['accuracy'])\n",
        "  \n",
        "  return model"
      ],
      "execution_count": 0,
      "outputs": []
    },
    {
      "cell_type": "code",
      "metadata": {
        "id": "dvXUQwqqmSyA",
        "colab_type": "code",
        "colab": {}
      },
      "source": [
        "# 4 Hidden Layer Model Definition\n",
        "def model4h(inputShape):\n",
        "  model = Sequential([\n",
        "      Dense(1024, activation='relu', input_shape=(inputShape,)),\n",
        "      Dense(512, activation='relu'),\n",
        "      Dense(256, activation='relu'),\n",
        "      Dense(128, activation='relu'),\n",
        "      Dense(6, activation='softmax')\n",
        "  ])\n",
        "  model.compile(optimizer='adam',\n",
        "              loss='sparse_categorical_crossentropy',\n",
        "              metrics=['accuracy'])\n",
        "  \n",
        "  return model"
      ],
      "execution_count": 0,
      "outputs": []
    },
    {
      "cell_type": "code",
      "metadata": {
        "colab_type": "code",
        "id": "qQIQaLWSvwb3",
        "colab": {}
      },
      "source": [
        "# 5 Hidden Layer Model Definition\n",
        "def model5h(inputShape):\n",
        "  model = Sequential([\n",
        "      Dense(1024, activation='relu', input_shape=(inputShape,)),\n",
        "      Dense(512, activation='relu'),\n",
        "      Dense(256, activation='relu'),\n",
        "      Dense(128, activation='relu'),\n",
        "      Dense(64, activation='relu'),\n",
        "      Dense(6, activation='softmax')\n",
        "  ])\n",
        "  model.compile(optimizer='adam',\n",
        "              loss='sparse_categorical_crossentropy',\n",
        "              metrics=['accuracy'])\n",
        "  \n",
        "  return model"
      ],
      "execution_count": 0,
      "outputs": []
    },
    {
      "cell_type": "markdown",
      "metadata": {
        "id": "LEvN8wPKj48g",
        "colab_type": "text"
      },
      "source": [
        "#### Fit Function"
      ]
    },
    {
      "cell_type": "code",
      "metadata": {
        "id": "j6rE2Na2kDkJ",
        "colab_type": "code",
        "colab": {}
      },
      "source": [
        "def train_model(model, data, labels):\n",
        "  print(\"Training\")\n",
        "  return model.fit(data,\n",
        "                      labels,\n",
        "                      epochs=epochs,\n",
        "                      #validation_data=validation_split,\n",
        "                      batch_size=batch,\n",
        "                      validation_split=split\n",
        "                    )"
      ],
      "execution_count": 0,
      "outputs": []
    },
    {
      "cell_type": "markdown",
      "metadata": {
        "id": "82NDQJ-0nwMR",
        "colab_type": "text"
      },
      "source": [
        "#### Evaluation Function"
      ]
    },
    {
      "cell_type": "code",
      "metadata": {
        "id": "ZBhfVIQmn4aF",
        "colab_type": "code",
        "colab": {}
      },
      "source": [
        "def evaluate_model(model, data, labels):\n",
        "  print(\"\\nEvaluation\")\n",
        "  return model.evaluate(data, labels)"
      ],
      "execution_count": 0,
      "outputs": []
    },
    {
      "cell_type": "markdown",
      "metadata": {
        "id": "RdAVBZYElbhS",
        "colab_type": "text"
      },
      "source": [
        "#### Prediction Function"
      ]
    },
    {
      "cell_type": "code",
      "metadata": {
        "id": "xr9sUQlKlgMX",
        "colab_type": "code",
        "colab": {}
      },
      "source": [
        "def predictions_model(model, data):\n",
        "  return model.predict(data)"
      ],
      "execution_count": 0,
      "outputs": []
    },
    {
      "cell_type": "markdown",
      "metadata": {
        "id": "et-2vQAKqh9L",
        "colab_type": "text"
      },
      "source": [
        "## Splitting Dataset Functions\n",
        "Funciones que serán usadas para separar el dataset en los distintos sub-datasets para realizar las distintas pruebas .\n",
        "El propósito es disminuir la cantidad de código que se tiene que escribir\n",
        "\n",
        "Luego, para cada sub-dataset, lo particionamos en:\n",
        "\n",
        "*   75% training\n",
        "*   25% test\n",
        "\n",
        "Durante el entrenamiento del modelo, el dataset de training se parte en:\n",
        "\n",
        "\n",
        "\n",
        "*   80% training\n",
        "*   20% validation\n",
        "\n"
      ]
    },
    {
      "cell_type": "markdown",
      "metadata": {
        "id": "P9vX50Y4rJMf",
        "colab_type": "text"
      },
      "source": [
        "### All dataset\n",
        "Únicamente se separan los labels y los datos"
      ]
    },
    {
      "cell_type": "code",
      "metadata": {
        "id": "s869t1gdroas",
        "colab_type": "code",
        "colab": {}
      },
      "source": [
        "def all_features(dataset):\n",
        "  \n",
        "  train_split = dataset.sample(frac = 0.75,random_state=42)\n",
        "  test_split = dataset.drop(train_split.index)\n",
        "\n",
        "  train_labels = train_split['Classcode']\n",
        "  train_data = train_split\n",
        "  train_data = train_data.drop(columns=['Classcode'])\n",
        "\n",
        "  test_labels = test_split['Classcode']\n",
        "  test_data = test_split\n",
        "  test_data = test_data.drop(columns=['Classcode'])\n",
        "\n",
        "  return train_data, train_labels, test_data, test_labels \n"
      ],
      "execution_count": 0,
      "outputs": []
    },
    {
      "cell_type": "markdown",
      "metadata": {
        "id": "fdnsSzqdv9H5",
        "colab_type": "text"
      },
      "source": [
        "### Clinical Features\n",
        "\n",
        "Se obtienen únicamente los features que son clínicos"
      ]
    },
    {
      "cell_type": "code",
      "metadata": {
        "colab_type": "code",
        "id": "og0PjcK8A4xZ",
        "colab": {}
      },
      "source": [
        "def clinical_features(dataset):\n",
        "  subset = dataset[['erythema', 'scaling', 'definite borders', 'itching', 'koebner phenomenon', \n",
        "              'polygonal papules', 'follicular papules', 'oral mucosal involvement', \n",
        "              'knee and elbow involvement', 'scalp involvement', 'history', 'Age', 'Classcode']]\n",
        "\n",
        "  train_split = subset.sample(frac = 0.75,random_state=42)\n",
        "  test_split = subset.drop(train_split.index)\n",
        "  \n",
        "  train_labels = train_split['Classcode']\n",
        "  train_data = train_split\n",
        "  train_data = train_data.drop(columns=['Classcode'])\n",
        "\n",
        "  test_labels = test_split['Classcode']\n",
        "  test_data = test_split\n",
        "  test_data = test_data.drop(columns=['Classcode'])\n",
        "\n",
        "  return train_data, train_labels, test_data, test_labels "
      ],
      "execution_count": 0,
      "outputs": []
    },
    {
      "cell_type": "markdown",
      "metadata": {
        "id": "0wsRsmjcwFIm",
        "colab_type": "text"
      },
      "source": [
        "### Histopathological Features\n",
        "\n",
        "Se obtienen únicamente los features que son histopatológicos"
      ]
    },
    {
      "cell_type": "code",
      "metadata": {
        "id": "i83N6MoRCWzX",
        "colab_type": "code",
        "colab": {}
      },
      "source": [
        "def histopathological_features(dataset):\n",
        "  subset = dataset[['melanin incontinence', 'eosinophils in the infiltrate', 'PNL infiltrate', \n",
        "              'fibrosis of the papillary dermis', 'exocytosis', 'acanthosis', 'hyperkeratosis', \n",
        "              'parakeratosis', 'clubbing of the rete ridges', 'elongation of the rete ridges', \n",
        "              'thinning of the suprapapillary epidermis', 'spongiform pustule', 'munro microabcess',\n",
        "              'focal hypergranulosis', 'disappearance of the granular layer', \n",
        "              'vacuolisation and damage of basal layer', 'spongiosis', \n",
        "              'saw-tooth appearance of retes', 'follicular horn plug', \n",
        "              'perifollicular parakeratosis', 'inflammatory monoluclear inflitrate', 'band-like infiltrate','Age', 'Classcode']]\n",
        "\n",
        "  train_split = subset.sample(frac = 0.75,random_state=42)\n",
        "  test_split = subset.drop(train_split.index)\n",
        "  \n",
        "  train_labels = train_split['Classcode']\n",
        "  train_data = train_split\n",
        "  train_data = train_data.drop(columns=['Classcode'])\n",
        "\n",
        "  test_labels = test_split['Classcode']\n",
        "  test_data = test_split\n",
        "  test_data = test_data.drop(columns=['Classcode'])\n",
        "\n",
        "  return train_data, train_labels, test_data, test_labels "
      ],
      "execution_count": 0,
      "outputs": []
    },
    {
      "cell_type": "markdown",
      "metadata": {
        "id": "0Y-_yUWBwJMt",
        "colab_type": "text"
      },
      "source": [
        "### Important Features from the Correlation Heatmap\n",
        "\n",
        "Se obtienen los features más importantes según el heatmap"
      ]
    },
    {
      "cell_type": "code",
      "metadata": {
        "id": "34eWWenowY_6",
        "colab_type": "code",
        "colab": {}
      },
      "source": [
        ""
      ],
      "execution_count": 0,
      "outputs": []
    },
    {
      "cell_type": "markdown",
      "metadata": {
        "id": "nPi9SW7ffKdS",
        "colab_type": "text"
      },
      "source": [
        "## Model 1: 2 hidden layers"
      ]
    },
    {
      "cell_type": "code",
      "metadata": {
        "id": "ViIxPdWjFN5G",
        "colab_type": "code",
        "colab": {}
      },
      "source": [
        "# A matrix where all model 1's info is stored\n",
        "# Rows represent the test number\n",
        "# Columns represent: \n",
        "#   1. Model\n",
        "#   2. Evaluation\n",
        "#   3. Predictions\n",
        "summary_model1 = [[0 for x in range(3)] for y in range(4)]\n"
      ],
      "execution_count": 0,
      "outputs": []
    },
    {
      "cell_type": "markdown",
      "metadata": {
        "id": "mz4dBGsefOgO",
        "colab_type": "text"
      },
      "source": [
        "### Test 1: All Features"
      ]
    },
    {
      "cell_type": "code",
      "metadata": {
        "id": "WpwahNWLe0Aj",
        "colab_type": "code",
        "outputId": "cd0baf4b-0009-4cb8-b225-3525c6fba281",
        "colab": {
          "base_uri": "https://localhost:8080/",
          "height": 281
        }
      },
      "source": [
        "train_data, train_labels, test_data, test_labels = all_features(df)\n",
        "\n",
        "# Model\n",
        "summary_model1[0][0] = model2h(train_data.shape[1])\n",
        "model = summary_model1[0][0]\n",
        "\n",
        "# Training\n",
        "train_model(model, train_data, train_labels)\n",
        "\n",
        "# Evaluation\n",
        "summary_model1[0][1] = evaluate_model(model, test_data, test_labels)\n",
        "\n",
        "# Predictions\n",
        "summary_model1[0][2] =  predictions_model(model, test_data)"
      ],
      "execution_count": 351,
      "outputs": [
        {
          "output_type": "stream",
          "text": [
            "Training\n",
            "Train on 219 samples, validate on 55 samples\n",
            "Epoch 1/5\n",
            "219/219 [==============================] - 1s 4ms/sample - loss: 2.4341 - accuracy: 0.2694 - val_loss: 0.9819 - val_accuracy: 0.7818\n",
            "Epoch 2/5\n",
            "219/219 [==============================] - 0s 307us/sample - loss: 1.1811 - accuracy: 0.6347 - val_loss: 0.5443 - val_accuracy: 0.8545\n",
            "Epoch 3/5\n",
            "219/219 [==============================] - 0s 321us/sample - loss: 0.6048 - accuracy: 0.7854 - val_loss: 0.2273 - val_accuracy: 0.9273\n",
            "Epoch 4/5\n",
            "219/219 [==============================] - 0s 301us/sample - loss: 0.3550 - accuracy: 0.8584 - val_loss: 0.1751 - val_accuracy: 0.9455\n",
            "Epoch 5/5\n",
            "219/219 [==============================] - 0s 303us/sample - loss: 0.2015 - accuracy: 0.9269 - val_loss: 0.1016 - val_accuracy: 0.9818\n",
            "\n",
            "Evaluation\n",
            "91/91 [==============================] - 0s 118us/sample - loss: 0.1758 - accuracy: 0.9451\n"
          ],
          "name": "stdout"
        }
      ]
    },
    {
      "cell_type": "markdown",
      "metadata": {
        "id": "NhLHs8dNfytj",
        "colab_type": "text"
      },
      "source": [
        "### Test 2: Clinical Features"
      ]
    },
    {
      "cell_type": "code",
      "metadata": {
        "id": "kcj1AKQpY6bG",
        "colab_type": "code",
        "outputId": "69950b41-2e38-407d-b352-eb3127d7a0e5",
        "colab": {
          "base_uri": "https://localhost:8080/",
          "height": 281
        }
      },
      "source": [
        "train_data, train_labels, test_data, test_labels = clinical_features(df)\n",
        "\n",
        "# Model\n",
        "summary_model1[1][0] = model2h(train_data.shape[1])\n",
        "model = summary_model1[1][0]\n",
        "\n",
        "# Training\n",
        "train_model(model, train_data, train_labels)\n",
        "\n",
        "# Evaluation\n",
        "summary_model1[1][1] = evaluate_model(model, test_data, test_labels)\n",
        "\n",
        "# Predictions\n",
        "summary_model1[1][2] =  predictions_model(model, test_data)"
      ],
      "execution_count": 352,
      "outputs": [
        {
          "output_type": "stream",
          "text": [
            "Training\n",
            "Train on 219 samples, validate on 55 samples\n",
            "Epoch 1/5\n",
            "219/219 [==============================] - 0s 2ms/sample - loss: 3.6879 - accuracy: 0.2192 - val_loss: 2.1808 - val_accuracy: 0.3818\n",
            "Epoch 2/5\n",
            "219/219 [==============================] - 0s 309us/sample - loss: 2.5515 - accuracy: 0.3607 - val_loss: 1.0963 - val_accuracy: 0.6545\n",
            "Epoch 3/5\n",
            "219/219 [==============================] - 0s 329us/sample - loss: 1.5308 - accuracy: 0.4475 - val_loss: 0.9504 - val_accuracy: 0.6727\n",
            "Epoch 4/5\n",
            "219/219 [==============================] - 0s 298us/sample - loss: 1.1523 - accuracy: 0.5434 - val_loss: 0.7272 - val_accuracy: 0.7636\n",
            "Epoch 5/5\n",
            "219/219 [==============================] - 0s 304us/sample - loss: 0.9763 - accuracy: 0.6027 - val_loss: 0.7648 - val_accuracy: 0.7091\n",
            "\n",
            "Evaluation\n",
            "91/91 [==============================] - 0s 137us/sample - loss: 0.8216 - accuracy: 0.7253\n"
          ],
          "name": "stdout"
        }
      ]
    },
    {
      "cell_type": "markdown",
      "metadata": {
        "id": "aVv13aMUf1ZT",
        "colab_type": "text"
      },
      "source": [
        "### Test 3: Histopathological Features"
      ]
    },
    {
      "cell_type": "code",
      "metadata": {
        "id": "4_GTXYuBZCq1",
        "colab_type": "code",
        "outputId": "cb94fcd9-1000-4153-fbd4-18b15851a624",
        "colab": {
          "base_uri": "https://localhost:8080/",
          "height": 281
        }
      },
      "source": [
        "train_data, train_labels, test_data, test_labels = histopathological_features(df)\n",
        "\n",
        "# Model\n",
        "summary_model1[2][0] = model2h(train_data.shape[1])\n",
        "model = summary_model1[2][0]\n",
        "\n",
        "# Training\n",
        "train_model(model, train_data, train_labels)\n",
        "\n",
        "# Evaluation\n",
        "summary_model1[2][1] = evaluate_model(model, test_data, test_labels)\n",
        "\n",
        "# Predictions\n",
        "summary_model1[2][2] =  predictions_model(model, test_data)"
      ],
      "execution_count": 353,
      "outputs": [
        {
          "output_type": "stream",
          "text": [
            "Training\n",
            "Train on 219 samples, validate on 55 samples\n",
            "Epoch 1/5\n",
            "219/219 [==============================] - 0s 2ms/sample - loss: 2.4093 - accuracy: 0.2511 - val_loss: 1.9278 - val_accuracy: 0.4545\n",
            "Epoch 2/5\n",
            "219/219 [==============================] - 0s 399us/sample - loss: 1.4420 - accuracy: 0.6027 - val_loss: 1.1672 - val_accuracy: 0.5273\n",
            "Epoch 3/5\n",
            "219/219 [==============================] - 0s 297us/sample - loss: 0.8574 - accuracy: 0.7169 - val_loss: 0.5734 - val_accuracy: 0.8182\n",
            "Epoch 4/5\n",
            "219/219 [==============================] - 0s 293us/sample - loss: 0.5810 - accuracy: 0.8128 - val_loss: 0.3718 - val_accuracy: 0.8545\n",
            "Epoch 5/5\n",
            "219/219 [==============================] - 0s 297us/sample - loss: 0.3615 - accuracy: 0.8630 - val_loss: 0.2541 - val_accuracy: 0.8909\n",
            "\n",
            "Evaluation\n",
            "91/91 [==============================] - 0s 128us/sample - loss: 0.2842 - accuracy: 0.8901\n"
          ],
          "name": "stdout"
        }
      ]
    },
    {
      "cell_type": "markdown",
      "metadata": {
        "id": "P2fd3aJWgj3b",
        "colab_type": "text"
      },
      "source": [
        "### Test 4: Important Features from the Correlation Heatmap"
      ]
    },
    {
      "cell_type": "code",
      "metadata": {
        "id": "YexM28sSZHMc",
        "colab_type": "code",
        "colab": {}
      },
      "source": [
        ""
      ],
      "execution_count": 0,
      "outputs": []
    },
    {
      "cell_type": "markdown",
      "metadata": {
        "colab_type": "text",
        "id": "MWXeSRkIJdlE"
      },
      "source": [
        "## Model 2: 3 hidden layers"
      ]
    },
    {
      "cell_type": "code",
      "metadata": {
        "colab_type": "code",
        "id": "bFUa586TJdlK",
        "colab": {}
      },
      "source": [
        "# A matrix where all model 2's info is stored\n",
        "# Rows represent the test number\n",
        "# Columns represent: \n",
        "#   1. Model\n",
        "#   2. Evaluation\n",
        "#   3. Predictions\n",
        "summary_model2 = [[0 for x in range(3)] for y in range(4)]\n"
      ],
      "execution_count": 0,
      "outputs": []
    },
    {
      "cell_type": "markdown",
      "metadata": {
        "colab_type": "text",
        "id": "06erQVQ_JdlQ"
      },
      "source": [
        "### Test 1: All Features"
      ]
    },
    {
      "cell_type": "code",
      "metadata": {
        "colab_type": "code",
        "outputId": "0421f86a-6b94-4fb1-e681-f27500af26c3",
        "id": "tlEGZ5wlJdlR",
        "colab": {
          "base_uri": "https://localhost:8080/",
          "height": 281
        }
      },
      "source": [
        "train_data, train_labels, test_data, test_labels = all_features(df)\n",
        "\n",
        "# Model\n",
        "summary_model2[0][0] = model3h(train_data.shape[1])\n",
        "model = summary_model2[0][0]\n",
        "\n",
        "# Training\n",
        "train_model(model, train_data, train_labels)\n",
        "\n",
        "# Evaluation\n",
        "summary_model2[0][1] = evaluate_model(model, test_data, test_labels)\n",
        "\n",
        "# Predictions\n",
        "summary_model2[0][2] =  predictions_model(model, test_data)"
      ],
      "execution_count": 355,
      "outputs": [
        {
          "output_type": "stream",
          "text": [
            "Training\n",
            "Train on 219 samples, validate on 55 samples\n",
            "Epoch 1/5\n",
            "219/219 [==============================] - 0s 2ms/sample - loss: 2.8137 - accuracy: 0.2420 - val_loss: 1.1295 - val_accuracy: 0.6545\n",
            "Epoch 2/5\n",
            "219/219 [==============================] - 0s 355us/sample - loss: 1.2788 - accuracy: 0.5114 - val_loss: 0.7709 - val_accuracy: 0.8545\n",
            "Epoch 3/5\n",
            "219/219 [==============================] - 0s 373us/sample - loss: 0.8465 - accuracy: 0.7352 - val_loss: 0.7087 - val_accuracy: 0.7818\n",
            "Epoch 4/5\n",
            "219/219 [==============================] - 0s 365us/sample - loss: 0.6493 - accuracy: 0.7260 - val_loss: 0.2958 - val_accuracy: 0.9455\n",
            "Epoch 5/5\n",
            "219/219 [==============================] - 0s 401us/sample - loss: 0.4243 - accuracy: 0.8128 - val_loss: 0.2325 - val_accuracy: 0.9455\n",
            "\n",
            "Evaluation\n",
            "91/91 [==============================] - 0s 153us/sample - loss: 0.3721 - accuracy: 0.8022\n"
          ],
          "name": "stdout"
        }
      ]
    },
    {
      "cell_type": "markdown",
      "metadata": {
        "colab_type": "text",
        "id": "77y7CIOBJdla"
      },
      "source": [
        "### Test 2: Clinical Features"
      ]
    },
    {
      "cell_type": "code",
      "metadata": {
        "colab_type": "code",
        "outputId": "0d365b61-2860-4cd4-d45b-fdbed9ae1397",
        "id": "pqGXGPsQJdlf",
        "colab": {
          "base_uri": "https://localhost:8080/",
          "height": 281
        }
      },
      "source": [
        "train_data, train_labels, test_data, test_labels = clinical_features(df)\n",
        "\n",
        "# Model\n",
        "summary_model2[1][0] = model3h(train_data.shape[1])\n",
        "model = summary_model2[1][0]\n",
        "\n",
        "# Training\n",
        "train_model(model, train_data, train_labels)\n",
        "\n",
        "# Evaluation\n",
        "summary_model2[1][1] = evaluate_model(model, test_data, test_labels)\n",
        "\n",
        "# Predictions\n",
        "summary_model2[1][2] =  predictions_model(model, test_data)"
      ],
      "execution_count": 356,
      "outputs": [
        {
          "output_type": "stream",
          "text": [
            "Training\n",
            "Train on 219 samples, validate on 55 samples\n",
            "Epoch 1/5\n",
            "219/219 [==============================] - 0s 2ms/sample - loss: 2.3293 - accuracy: 0.2055 - val_loss: 1.6763 - val_accuracy: 0.4364\n",
            "Epoch 2/5\n",
            "219/219 [==============================] - 0s 348us/sample - loss: 1.6520 - accuracy: 0.3927 - val_loss: 1.4025 - val_accuracy: 0.3636\n",
            "Epoch 3/5\n",
            "219/219 [==============================] - 0s 325us/sample - loss: 1.3789 - accuracy: 0.5023 - val_loss: 1.0758 - val_accuracy: 0.6182\n",
            "Epoch 4/5\n",
            "219/219 [==============================] - 0s 365us/sample - loss: 1.1991 - accuracy: 0.5525 - val_loss: 1.1077 - val_accuracy: 0.5818\n",
            "Epoch 5/5\n",
            "219/219 [==============================] - 0s 387us/sample - loss: 1.0333 - accuracy: 0.5845 - val_loss: 0.7197 - val_accuracy: 0.8182\n",
            "\n",
            "Evaluation\n",
            "91/91 [==============================] - 0s 168us/sample - loss: 0.8225 - accuracy: 0.7363\n"
          ],
          "name": "stdout"
        }
      ]
    },
    {
      "cell_type": "markdown",
      "metadata": {
        "colab_type": "text",
        "id": "rzZvGKCUJdlm"
      },
      "source": [
        "### Test 3: Histopathological Features"
      ]
    },
    {
      "cell_type": "code",
      "metadata": {
        "colab_type": "code",
        "outputId": "899519a2-35a7-42a4-d491-bdc3bb237dc1",
        "id": "bgdiYNCTJdlo",
        "colab": {
          "base_uri": "https://localhost:8080/",
          "height": 281
        }
      },
      "source": [
        "train_data, train_labels, test_data, test_labels = histopathological_features(df)\n",
        "\n",
        "# Model\n",
        "summary_model2[2][0] = model3h(train_data.shape[1])\n",
        "model = summary_model2[2][0]\n",
        "\n",
        "# Training\n",
        "train_model(model, train_data, train_labels)\n",
        "\n",
        "# Evaluation\n",
        "summary_model2[2][1] = evaluate_model(model, test_data, test_labels)\n",
        "\n",
        "# Predictions\n",
        "summary_model2[2][2] =  predictions_model(model, test_data)"
      ],
      "execution_count": 357,
      "outputs": [
        {
          "output_type": "stream",
          "text": [
            "Training\n",
            "Train on 219 samples, validate on 55 samples\n",
            "Epoch 1/5\n",
            "219/219 [==============================] - 0s 2ms/sample - loss: 2.2385 - accuracy: 0.3470 - val_loss: 1.2024 - val_accuracy: 0.5091\n",
            "Epoch 2/5\n",
            "219/219 [==============================] - 0s 409us/sample - loss: 1.2264 - accuracy: 0.5525 - val_loss: 1.2134 - val_accuracy: 0.4000\n",
            "Epoch 3/5\n",
            "219/219 [==============================] - 0s 408us/sample - loss: 0.9892 - accuracy: 0.6073 - val_loss: 0.7328 - val_accuracy: 0.7636\n",
            "Epoch 4/5\n",
            "219/219 [==============================] - 0s 456us/sample - loss: 0.6475 - accuracy: 0.7763 - val_loss: 0.4018 - val_accuracy: 0.9091\n",
            "Epoch 5/5\n",
            "219/219 [==============================] - 0s 398us/sample - loss: 0.3897 - accuracy: 0.8493 - val_loss: 0.2462 - val_accuracy: 0.9636\n",
            "\n",
            "Evaluation\n",
            "91/91 [==============================] - 0s 139us/sample - loss: 0.3261 - accuracy: 0.9011\n"
          ],
          "name": "stdout"
        }
      ]
    },
    {
      "cell_type": "markdown",
      "metadata": {
        "colab_type": "text",
        "id": "Mad5ki4sJdlu"
      },
      "source": [
        "### Test 4: Important Features from the Correlation Heatmap"
      ]
    },
    {
      "cell_type": "code",
      "metadata": {
        "id": "hq2pEO3DKNfO",
        "colab_type": "code",
        "colab": {}
      },
      "source": [
        ""
      ],
      "execution_count": 0,
      "outputs": []
    },
    {
      "cell_type": "markdown",
      "metadata": {
        "colab_type": "text",
        "id": "6JAgXU-dKLy0"
      },
      "source": [
        "## Model 3: 4 hidden layers"
      ]
    },
    {
      "cell_type": "code",
      "metadata": {
        "colab_type": "code",
        "id": "3npkXkOAKLy2",
        "colab": {}
      },
      "source": [
        "# A matrix where all model 3's info is stored\n",
        "# Rows represent the test number\n",
        "# Columns represent: \n",
        "#   1. Model\n",
        "#   2. Evaluation\n",
        "#   3. Predictions\n",
        "summary_model3 = [[0 for x in range(3)] for y in range(4)]\n"
      ],
      "execution_count": 0,
      "outputs": []
    },
    {
      "cell_type": "markdown",
      "metadata": {
        "colab_type": "text",
        "id": "I9YmuGsZKLy8"
      },
      "source": [
        "### Test 1: All Features"
      ]
    },
    {
      "cell_type": "code",
      "metadata": {
        "colab_type": "code",
        "outputId": "1f2acaa4-0781-4ccc-ffdd-d2b6724a63a7",
        "id": "sEcQRnNuKLy-",
        "colab": {
          "base_uri": "https://localhost:8080/",
          "height": 281
        }
      },
      "source": [
        "train_data, train_labels, test_data, test_labels = all_features(df)\n",
        "\n",
        "# Model\n",
        "summary_model3[0][0] = model4h(train_data.shape[1])\n",
        "model = summary_model3[0][0]\n",
        "\n",
        "# Training\n",
        "train_model(model, train_data, train_labels)\n",
        "\n",
        "# Evaluation\n",
        "summary_model3[0][1] = evaluate_model(model, test_data, test_labels)\n",
        "\n",
        "# Predictions\n",
        "summary_model3[0][2] =  predictions_model(model, test_data)"
      ],
      "execution_count": 359,
      "outputs": [
        {
          "output_type": "stream",
          "text": [
            "Training\n",
            "Train on 219 samples, validate on 55 samples\n",
            "Epoch 1/5\n",
            "219/219 [==============================] - 0s 2ms/sample - loss: 2.0695 - accuracy: 0.2740 - val_loss: 1.2780 - val_accuracy: 0.5455\n",
            "Epoch 2/5\n",
            "219/219 [==============================] - 0s 394us/sample - loss: 1.2173 - accuracy: 0.4977 - val_loss: 0.8443 - val_accuracy: 0.9273\n",
            "Epoch 3/5\n",
            "219/219 [==============================] - 0s 432us/sample - loss: 0.8268 - accuracy: 0.6895 - val_loss: 0.4272 - val_accuracy: 0.8909\n",
            "Epoch 4/5\n",
            "219/219 [==============================] - 0s 411us/sample - loss: 0.5554 - accuracy: 0.7945 - val_loss: 0.3735 - val_accuracy: 0.8545\n",
            "Epoch 5/5\n",
            "219/219 [==============================] - 0s 397us/sample - loss: 0.3770 - accuracy: 0.8539 - val_loss: 0.2254 - val_accuracy: 0.9091\n",
            "\n",
            "Evaluation\n",
            "91/91 [==============================] - 0s 135us/sample - loss: 0.3420 - accuracy: 0.8791\n"
          ],
          "name": "stdout"
        }
      ]
    },
    {
      "cell_type": "markdown",
      "metadata": {
        "colab_type": "text",
        "id": "dIag5Uo2KLzE"
      },
      "source": [
        "### Test 2: Clinical Features"
      ]
    },
    {
      "cell_type": "code",
      "metadata": {
        "colab_type": "code",
        "outputId": "8aa9c96e-626a-426d-d92e-ac2145679c49",
        "id": "QL95zg3vKLzF",
        "colab": {
          "base_uri": "https://localhost:8080/",
          "height": 281
        }
      },
      "source": [
        "train_data, train_labels, test_data, test_labels = clinical_features(df)\n",
        "\n",
        "# Model\n",
        "summary_model3[1][0] = model4h(train_data.shape[1])\n",
        "model = summary_model3[1][0]\n",
        "\n",
        "# Training\n",
        "train_model(model, train_data, train_labels)\n",
        "\n",
        "# Evaluation\n",
        "summary_model3[1][1] = evaluate_model(model, test_data, test_labels)\n",
        "\n",
        "# Predictions\n",
        "summary_model3[1][2] =  predictions_model(model, test_data)"
      ],
      "execution_count": 360,
      "outputs": [
        {
          "output_type": "stream",
          "text": [
            "Training\n",
            "Train on 219 samples, validate on 55 samples\n",
            "Epoch 1/5\n",
            "219/219 [==============================] - 0s 2ms/sample - loss: 2.2290 - accuracy: 0.2100 - val_loss: 1.5179 - val_accuracy: 0.4182\n",
            "Epoch 2/5\n",
            "219/219 [==============================] - 0s 409us/sample - loss: 1.5953 - accuracy: 0.2785 - val_loss: 1.6024 - val_accuracy: 0.2545\n",
            "Epoch 3/5\n",
            "219/219 [==============================] - 0s 415us/sample - loss: 1.6579 - accuracy: 0.3105 - val_loss: 1.4636 - val_accuracy: 0.4182\n",
            "Epoch 4/5\n",
            "219/219 [==============================] - 0s 434us/sample - loss: 1.4015 - accuracy: 0.4566 - val_loss: 1.0606 - val_accuracy: 0.7818\n",
            "Epoch 5/5\n",
            "219/219 [==============================] - 0s 440us/sample - loss: 1.2034 - accuracy: 0.5525 - val_loss: 0.8225 - val_accuracy: 0.6364\n",
            "\n",
            "Evaluation\n",
            "91/91 [==============================] - 0s 138us/sample - loss: 1.0752 - accuracy: 0.5385\n"
          ],
          "name": "stdout"
        }
      ]
    },
    {
      "cell_type": "markdown",
      "metadata": {
        "colab_type": "text",
        "id": "TLGjmWgwKLzL"
      },
      "source": [
        "### Test 3: Histopathological Features"
      ]
    },
    {
      "cell_type": "code",
      "metadata": {
        "colab_type": "code",
        "outputId": "07268aee-f06a-427c-fa6a-71e3c973a6e2",
        "id": "uDgX7MeaKLzN",
        "colab": {
          "base_uri": "https://localhost:8080/",
          "height": 281
        }
      },
      "source": [
        "train_data, train_labels, test_data, test_labels = histopathological_features(df)\n",
        "\n",
        "# Model\n",
        "summary_model3[2][0] = model4h(train_data.shape[1])\n",
        "model = summary_model3[2][0]\n",
        "\n",
        "# Training\n",
        "train_model(model, train_data, train_labels)\n",
        "\n",
        "# Evaluation\n",
        "summary_model3[2][1] = evaluate_model(model, test_data, test_labels)\n",
        "\n",
        "# Predictions\n",
        "summary_model3[2][2] =  predictions_model(model, test_data)"
      ],
      "execution_count": 361,
      "outputs": [
        {
          "output_type": "stream",
          "text": [
            "Training\n",
            "Train on 219 samples, validate on 55 samples\n",
            "Epoch 1/5\n",
            "219/219 [==============================] - 0s 2ms/sample - loss: 1.9585 - accuracy: 0.2557 - val_loss: 1.2780 - val_accuracy: 0.4182\n",
            "Epoch 2/5\n",
            "219/219 [==============================] - 0s 413us/sample - loss: 1.3376 - accuracy: 0.4977 - val_loss: 1.2648 - val_accuracy: 0.4545\n",
            "Epoch 3/5\n",
            "219/219 [==============================] - 0s 357us/sample - loss: 1.2465 - accuracy: 0.5479 - val_loss: 0.8981 - val_accuracy: 0.6909\n",
            "Epoch 4/5\n",
            "219/219 [==============================] - 0s 453us/sample - loss: 0.8117 - accuracy: 0.6941 - val_loss: 0.5141 - val_accuracy: 0.9091\n",
            "Epoch 5/5\n",
            "219/219 [==============================] - 0s 433us/sample - loss: 0.5532 - accuracy: 0.8402 - val_loss: 0.3304 - val_accuracy: 0.9273\n",
            "\n",
            "Evaluation\n",
            "91/91 [==============================] - 0s 135us/sample - loss: 0.4483 - accuracy: 0.8242\n"
          ],
          "name": "stdout"
        }
      ]
    },
    {
      "cell_type": "markdown",
      "metadata": {
        "colab_type": "text",
        "id": "KHEfY6RjKLzX"
      },
      "source": [
        "### Test 4: Important Features from the Correlation Heatmap"
      ]
    },
    {
      "cell_type": "code",
      "metadata": {
        "colab_type": "code",
        "id": "fWLqETwNKLzY",
        "colab": {}
      },
      "source": [
        ""
      ],
      "execution_count": 0,
      "outputs": []
    },
    {
      "cell_type": "markdown",
      "metadata": {
        "colab_type": "text",
        "id": "s8YUaywKMRT_"
      },
      "source": [
        "## Model 4: 5 hidden layers"
      ]
    },
    {
      "cell_type": "code",
      "metadata": {
        "colab_type": "code",
        "id": "ix8Ixv9cMRUI",
        "colab": {}
      },
      "source": [
        "# A matrix where all model 4's info is stored\n",
        "# Rows represent the test number\n",
        "# Columns represent: \n",
        "#   1. Model\n",
        "#   2. Evaluation\n",
        "#   3. Predictions\n",
        "summary_model4 = [[0 for x in range(3)] for y in range(4)]\n"
      ],
      "execution_count": 0,
      "outputs": []
    },
    {
      "cell_type": "markdown",
      "metadata": {
        "colab_type": "text",
        "id": "NcrXEL9SMRUS"
      },
      "source": [
        "### Test 1: All Features"
      ]
    },
    {
      "cell_type": "code",
      "metadata": {
        "colab_type": "code",
        "outputId": "4f3f51c0-cc9f-4433-e0ae-e92b762d1613",
        "id": "E1LogbTfMRUU",
        "colab": {
          "base_uri": "https://localhost:8080/",
          "height": 281
        }
      },
      "source": [
        "train_data, train_labels, test_data, test_labels = all_features(df)\n",
        "\n",
        "# Model\n",
        "summary_model4[0][0] = model5h(train_data.shape[1])\n",
        "model = summary_model4[0][0]\n",
        "\n",
        "# Training\n",
        "train_model(model, train_data, train_labels)\n",
        "\n",
        "# Evaluation\n",
        "summary_model4[0][1] = evaluate_model(model, test_data, test_labels)\n",
        "\n",
        "# Predictions\n",
        "summary_model4[0][2] =  predictions_model(model, test_data)"
      ],
      "execution_count": 363,
      "outputs": [
        {
          "output_type": "stream",
          "text": [
            "Training\n",
            "Train on 219 samples, validate on 55 samples\n",
            "Epoch 1/5\n",
            "219/219 [==============================] - 0s 2ms/sample - loss: 1.8581 - accuracy: 0.2374 - val_loss: 1.3502 - val_accuracy: 0.4182\n",
            "Epoch 2/5\n",
            "219/219 [==============================] - 0s 430us/sample - loss: 1.3505 - accuracy: 0.4703 - val_loss: 1.1380 - val_accuracy: 0.5455\n",
            "Epoch 3/5\n",
            "219/219 [==============================] - 0s 517us/sample - loss: 1.0299 - accuracy: 0.6027 - val_loss: 0.6787 - val_accuracy: 0.7818\n",
            "Epoch 4/5\n",
            "219/219 [==============================] - 0s 399us/sample - loss: 0.6818 - accuracy: 0.7717 - val_loss: 0.3173 - val_accuracy: 0.9455\n",
            "Epoch 5/5\n",
            "219/219 [==============================] - 0s 427us/sample - loss: 0.4211 - accuracy: 0.8721 - val_loss: 0.2086 - val_accuracy: 0.9273\n",
            "\n",
            "Evaluation\n",
            "91/91 [==============================] - 0s 141us/sample - loss: 0.4966 - accuracy: 0.7363\n"
          ],
          "name": "stdout"
        }
      ]
    },
    {
      "cell_type": "markdown",
      "metadata": {
        "colab_type": "text",
        "id": "0_kZB6rLMRUd"
      },
      "source": [
        "### Test 2: Clinical Features"
      ]
    },
    {
      "cell_type": "code",
      "metadata": {
        "colab_type": "code",
        "outputId": "4f1cbcac-9d8b-4377-bbcf-f61c87440a8b",
        "id": "pkjq0MkLMRUi",
        "colab": {
          "base_uri": "https://localhost:8080/",
          "height": 281
        }
      },
      "source": [
        "train_data, train_labels, test_data, test_labels = clinical_features(df)\n",
        "\n",
        "# Model\n",
        "summary_model4[1][0] = model5h(train_data.shape[1])\n",
        "model = summary_model4[1][0]\n",
        "\n",
        "# Training\n",
        "train_model(model, train_data, train_labels)\n",
        "\n",
        "# Evaluation\n",
        "summary_model4[1][1] = evaluate_model(model, test_data, test_labels)\n",
        "\n",
        "# Predictions\n",
        "summary_model4[1][2] =  predictions_model(model, test_data)"
      ],
      "execution_count": 364,
      "outputs": [
        {
          "output_type": "stream",
          "text": [
            "Training\n",
            "Train on 219 samples, validate on 55 samples\n",
            "Epoch 1/5\n",
            "219/219 [==============================] - 0s 2ms/sample - loss: 1.8443 - accuracy: 0.2466 - val_loss: 1.5474 - val_accuracy: 0.2727\n",
            "Epoch 2/5\n",
            "219/219 [==============================] - 0s 415us/sample - loss: 1.6109 - accuracy: 0.3059 - val_loss: 1.6946 - val_accuracy: 0.2182\n",
            "Epoch 3/5\n",
            "219/219 [==============================] - 0s 450us/sample - loss: 1.7256 - accuracy: 0.2466 - val_loss: 1.7340 - val_accuracy: 0.2545\n",
            "Epoch 4/5\n",
            "219/219 [==============================] - 0s 404us/sample - loss: 1.5932 - accuracy: 0.2785 - val_loss: 1.2924 - val_accuracy: 0.5636\n",
            "Epoch 5/5\n",
            "219/219 [==============================] - 0s 420us/sample - loss: 1.4557 - accuracy: 0.4749 - val_loss: 1.1198 - val_accuracy: 0.6000\n",
            "\n",
            "Evaluation\n",
            "91/91 [==============================] - 0s 141us/sample - loss: 1.4336 - accuracy: 0.4505\n"
          ],
          "name": "stdout"
        }
      ]
    },
    {
      "cell_type": "markdown",
      "metadata": {
        "colab_type": "text",
        "id": "PPlN4UC7MRUo"
      },
      "source": [
        "### Test 3: Histopathological Features"
      ]
    },
    {
      "cell_type": "code",
      "metadata": {
        "colab_type": "code",
        "outputId": "3ad81734-4438-405c-c5f4-8fb1c5f62d47",
        "id": "TETXfj8xMRUp",
        "colab": {
          "base_uri": "https://localhost:8080/",
          "height": 281
        }
      },
      "source": [
        "train_data, train_labels, test_data, test_labels = histopathological_features(df)\n",
        "\n",
        "# Model\n",
        "summary_model4[2][0] = model5h(train_data.shape[1])\n",
        "model = summary_model4[2][0]\n",
        "\n",
        "# Training\n",
        "train_model(model, train_data, train_labels)\n",
        "\n",
        "# Evaluation\n",
        "summary_model4[2][1] = evaluate_model(model, test_data, test_labels)\n",
        "\n",
        "# Predictions\n",
        "summary_model4[2][2] =  predictions_model(model, test_data)"
      ],
      "execution_count": 365,
      "outputs": [
        {
          "output_type": "stream",
          "text": [
            "Training\n",
            "Train on 219 samples, validate on 55 samples\n",
            "Epoch 1/5\n",
            "219/219 [==============================] - 0s 2ms/sample - loss: 1.8022 - accuracy: 0.2694 - val_loss: 1.4646 - val_accuracy: 0.3273\n",
            "Epoch 2/5\n",
            "219/219 [==============================] - 0s 389us/sample - loss: 1.3972 - accuracy: 0.4521 - val_loss: 1.2668 - val_accuracy: 0.5636\n",
            "Epoch 3/5\n",
            "219/219 [==============================] - 0s 357us/sample - loss: 1.2405 - accuracy: 0.5342 - val_loss: 0.8041 - val_accuracy: 0.7091\n",
            "Epoch 4/5\n",
            "219/219 [==============================] - 0s 456us/sample - loss: 1.1277 - accuracy: 0.6073 - val_loss: 0.7401 - val_accuracy: 0.7273\n",
            "Epoch 5/5\n",
            "219/219 [==============================] - 0s 397us/sample - loss: 0.7662 - accuracy: 0.6667 - val_loss: 0.5919 - val_accuracy: 0.6727\n",
            "\n",
            "Evaluation\n",
            "91/91 [==============================] - 0s 141us/sample - loss: 0.7976 - accuracy: 0.6264\n"
          ],
          "name": "stdout"
        }
      ]
    },
    {
      "cell_type": "markdown",
      "metadata": {
        "colab_type": "text",
        "id": "nygEEY7uMRUu"
      },
      "source": [
        "### Test 4: Important Features from the Correlation Heatmap"
      ]
    },
    {
      "cell_type": "code",
      "metadata": {
        "colab_type": "code",
        "id": "EdCFDHmpMRUw",
        "colab": {}
      },
      "source": [
        ""
      ],
      "execution_count": 0,
      "outputs": []
    },
    {
      "cell_type": "markdown",
      "metadata": {
        "colab_type": "text",
        "id": "mSRUzK6UMRU1"
      },
      "source": [
        "asdfasdf"
      ]
    },
    {
      "cell_type": "code",
      "metadata": {
        "colab_type": "code",
        "id": "umXJFD66MRU2",
        "colab": {}
      },
      "source": [
        ""
      ],
      "execution_count": 0,
      "outputs": []
    }
  ]
}